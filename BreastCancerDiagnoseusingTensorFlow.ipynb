{
  "nbformat": 4,
  "nbformat_minor": 0,
  "metadata": {
    "colab": {
      "name": "BreastCancerDiagnoseusingTensorFlow.ipynb",
      "provenance": [],
      "collapsed_sections": [],
      "authorship_tag": "ABX9TyM1tDQrncx4yXnRc+ZvitO0",
      "include_colab_link": true
    },
    "kernelspec": {
      "name": "python3",
      "display_name": "Python 3"
    },
    "accelerator": "GPU"
  },
  "cells": [
    {
      "cell_type": "markdown",
      "metadata": {
        "id": "view-in-github",
        "colab_type": "text"
      },
      "source": [
        "<a href=\"https://colab.research.google.com/github/saileshraturi/BreastCancerdiagnoseusingTensorFlow/blob/master/BreastCancerDiagnoseusingTensorFlow.ipynb\" target=\"_parent\"><img src=\"https://colab.research.google.com/assets/colab-badge.svg\" alt=\"Open In Colab\"/></a>"
      ]
    },
    {
      "cell_type": "code",
      "metadata": {
        "id": "UyCNGAYNymZc",
        "colab_type": "code",
        "outputId": "a299ecf5-31ce-4812-f2f9-846a2304266e",
        "colab": {
          "base_uri": "https://localhost:8080/",
          "height": 34
        }
      },
      "source": [
        "import tensorflow as tf\n",
        "print(tf.__version__)"
      ],
      "execution_count": 3,
      "outputs": [
        {
          "output_type": "stream",
          "text": [
            "2.2.0-rc3\n"
          ],
          "name": "stdout"
        }
      ]
    },
    {
      "cell_type": "code",
      "metadata": {
        "id": "KphiJshC0apQ",
        "colab_type": "code",
        "colab": {}
      },
      "source": [
        "#load dataset\n",
        "from sklearn.datasets import load_breast_cancer"
      ],
      "execution_count": 0,
      "outputs": []
    },
    {
      "cell_type": "code",
      "metadata": {
        "id": "g9_UKuMc0vzW",
        "colab_type": "code",
        "colab": {}
      },
      "source": [
        "data = load_breast_cancer()"
      ],
      "execution_count": 0,
      "outputs": []
    },
    {
      "cell_type": "code",
      "metadata": {
        "id": "pv0w2a0j04mN",
        "colab_type": "code",
        "outputId": "d61dd0e4-e805-4543-c9e5-c854030b50e3",
        "colab": {
          "base_uri": "https://localhost:8080/",
          "height": 34
        }
      },
      "source": [
        "type(data)"
      ],
      "execution_count": 6,
      "outputs": [
        {
          "output_type": "execute_result",
          "data": {
            "text/plain": [
              "sklearn.utils.Bunch"
            ]
          },
          "metadata": {
            "tags": []
          },
          "execution_count": 6
        }
      ]
    },
    {
      "cell_type": "code",
      "metadata": {
        "id": "82GjKUSY1Db9",
        "colab_type": "code",
        "outputId": "cb58e614-239e-4016-cf8d-bff98af34387",
        "colab": {
          "base_uri": "https://localhost:8080/",
          "height": 34
        }
      },
      "source": [
        "data.keys()"
      ],
      "execution_count": 7,
      "outputs": [
        {
          "output_type": "execute_result",
          "data": {
            "text/plain": [
              "dict_keys(['data', 'target', 'target_names', 'DESCR', 'feature_names', 'filename'])"
            ]
          },
          "metadata": {
            "tags": []
          },
          "execution_count": 7
        }
      ]
    },
    {
      "cell_type": "code",
      "metadata": {
        "id": "f_w2H8uY1K9T",
        "colab_type": "code",
        "outputId": "7d2dad21-9534-415d-f420-f3117c9390aa",
        "colab": {
          "base_uri": "https://localhost:8080/",
          "height": 34
        }
      },
      "source": [
        "data.data.shape"
      ],
      "execution_count": 8,
      "outputs": [
        {
          "output_type": "execute_result",
          "data": {
            "text/plain": [
              "(569, 30)"
            ]
          },
          "metadata": {
            "tags": []
          },
          "execution_count": 8
        }
      ]
    },
    {
      "cell_type": "code",
      "metadata": {
        "id": "r4oyB23B1pzJ",
        "colab_type": "code",
        "outputId": "6aa296ab-dfb9-47ba-f3d5-954f83cd28a4",
        "colab": {
          "base_uri": "https://localhost:8080/",
          "height": 34
        }
      },
      "source": [
        "data.target_names"
      ],
      "execution_count": 9,
      "outputs": [
        {
          "output_type": "execute_result",
          "data": {
            "text/plain": [
              "array(['malignant', 'benign'], dtype='<U9')"
            ]
          },
          "metadata": {
            "tags": []
          },
          "execution_count": 9
        }
      ]
    },
    {
      "cell_type": "code",
      "metadata": {
        "id": "cLCC6yi21uGO",
        "colab_type": "code",
        "outputId": "2016b8b9-e157-4d6b-b824-1ee586f1840b",
        "colab": {
          "base_uri": "https://localhost:8080/",
          "height": 34
        }
      },
      "source": [
        "data.target.shape"
      ],
      "execution_count": 10,
      "outputs": [
        {
          "output_type": "execute_result",
          "data": {
            "text/plain": [
              "(569,)"
            ]
          },
          "metadata": {
            "tags": []
          },
          "execution_count": 10
        }
      ]
    },
    {
      "cell_type": "code",
      "metadata": {
        "id": "AtJBV0Wy14cm",
        "colab_type": "code",
        "outputId": "a2108333-e533-4553-ce21-e09da4e8300f",
        "colab": {
          "base_uri": "https://localhost:8080/",
          "height": 187
        }
      },
      "source": [
        "data.feature_names"
      ],
      "execution_count": 11,
      "outputs": [
        {
          "output_type": "execute_result",
          "data": {
            "text/plain": [
              "array(['mean radius', 'mean texture', 'mean perimeter', 'mean area',\n",
              "       'mean smoothness', 'mean compactness', 'mean concavity',\n",
              "       'mean concave points', 'mean symmetry', 'mean fractal dimension',\n",
              "       'radius error', 'texture error', 'perimeter error', 'area error',\n",
              "       'smoothness error', 'compactness error', 'concavity error',\n",
              "       'concave points error', 'symmetry error',\n",
              "       'fractal dimension error', 'worst radius', 'worst texture',\n",
              "       'worst perimeter', 'worst area', 'worst smoothness',\n",
              "       'worst compactness', 'worst concavity', 'worst concave points',\n",
              "       'worst symmetry', 'worst fractal dimension'], dtype='<U23')"
            ]
          },
          "metadata": {
            "tags": []
          },
          "execution_count": 11
        }
      ]
    },
    {
      "cell_type": "code",
      "metadata": {
        "id": "Fx0PgIgj2J1b",
        "colab_type": "code",
        "colab": {}
      },
      "source": [
        "#Train Test split\n",
        "from sklearn.model_selection import train_test_split"
      ],
      "execution_count": 0,
      "outputs": []
    },
    {
      "cell_type": "code",
      "metadata": {
        "id": "-KGySuV95Ciz",
        "colab_type": "code",
        "colab": {}
      },
      "source": [
        "X_train,X_test,Y_train,Y_test = train_test_split(data.data,data.target,test_size = 0.33)"
      ],
      "execution_count": 0,
      "outputs": []
    },
    {
      "cell_type": "code",
      "metadata": {
        "id": "lPHVoY6m5gpz",
        "colab_type": "code",
        "colab": {}
      },
      "source": [
        "N,D = X_train.shape"
      ],
      "execution_count": 0,
      "outputs": []
    },
    {
      "cell_type": "code",
      "metadata": {
        "id": "xv_emZer5kj7",
        "colab_type": "code",
        "outputId": "182000fa-1a97-45e4-f6d0-983c27d4814b",
        "colab": {
          "base_uri": "https://localhost:8080/",
          "height": 34
        }
      },
      "source": [
        "Y_train.shape"
      ],
      "execution_count": 15,
      "outputs": [
        {
          "output_type": "execute_result",
          "data": {
            "text/plain": [
              "(381,)"
            ]
          },
          "metadata": {
            "tags": []
          },
          "execution_count": 15
        }
      ]
    },
    {
      "cell_type": "code",
      "metadata": {
        "id": "pfz-HpDQ5n52",
        "colab_type": "code",
        "colab": {}
      },
      "source": [
        "# Scaling of Data\n",
        "from sklearn.preprocessing import StandardScaler"
      ],
      "execution_count": 0,
      "outputs": []
    },
    {
      "cell_type": "code",
      "metadata": {
        "id": "sZYvq86R70qu",
        "colab_type": "code",
        "colab": {}
      },
      "source": [
        "scaler = StandardScaler()"
      ],
      "execution_count": 0,
      "outputs": []
    },
    {
      "cell_type": "code",
      "metadata": {
        "id": "_it3E0mF9CWC",
        "colab_type": "code",
        "colab": {}
      },
      "source": [
        "X_train = scaler.fit_transform(X_train)\n",
        "X_test = scaler.transform(X_test)"
      ],
      "execution_count": 0,
      "outputs": []
    },
    {
      "cell_type": "code",
      "metadata": {
        "id": "e6uNgRg29QGO",
        "colab_type": "code",
        "colab": {}
      },
      "source": [
        "#Build the model\n",
        "model  = tf.keras.models.Sequential([\n",
        "    tf.keras.layers.Input(shape=(D,)),\n",
        "    tf.keras.layers.Dense(1,activation='sigmoid')\n",
        "])"
      ],
      "execution_count": 0,
      "outputs": []
    },
    {
      "cell_type": "code",
      "metadata": {
        "id": "1Vq146dP-s7R",
        "colab_type": "code",
        "colab": {}
      },
      "source": [
        "#Another way of modelling\n",
        "# model = tf.keras.model.Sequential()\n",
        "#model.add(tf.keras.layes.Dense(1,input_Shape =(D,),activation = 'sigmoid'))"
      ],
      "execution_count": 0,
      "outputs": []
    },
    {
      "cell_type": "code",
      "metadata": {
        "id": "Sd5l90Pn_TV6",
        "colab_type": "code",
        "colab": {}
      },
      "source": [
        "model.compile(optimizer='adam',\n",
        "              loss='binary_crossentropy',\n",
        "              metrics = ['accuracy'])"
      ],
      "execution_count": 0,
      "outputs": []
    },
    {
      "cell_type": "code",
      "metadata": {
        "id": "7KmtSTeP_t1F",
        "colab_type": "code",
        "outputId": "b205fb5f-c5b0-458e-a8e4-a75b5cdae60e",
        "colab": {
          "base_uri": "https://localhost:8080/",
          "height": 1000
        }
      },
      "source": [
        "#Train the model\n",
        "r = model.fit(X_train,Y_train,validation_data=(X_test,Y_test),epochs=100)"
      ],
      "execution_count": 22,
      "outputs": [
        {
          "output_type": "stream",
          "text": [
            "Epoch 1/100\n",
            "12/12 [==============================] - 0s 16ms/step - loss: 0.5432 - accuracy: 0.7402 - val_loss: 0.5054 - val_accuracy: 0.7713\n",
            "Epoch 2/100\n",
            "12/12 [==============================] - 0s 5ms/step - loss: 0.4961 - accuracy: 0.7874 - val_loss: 0.4687 - val_accuracy: 0.8085\n",
            "Epoch 3/100\n",
            "12/12 [==============================] - 0s 5ms/step - loss: 0.4572 - accuracy: 0.8215 - val_loss: 0.4369 - val_accuracy: 0.8457\n",
            "Epoch 4/100\n",
            "12/12 [==============================] - 0s 5ms/step - loss: 0.4238 - accuracy: 0.8478 - val_loss: 0.4090 - val_accuracy: 0.8777\n",
            "Epoch 5/100\n",
            "12/12 [==============================] - 0s 4ms/step - loss: 0.3944 - accuracy: 0.8661 - val_loss: 0.3851 - val_accuracy: 0.9043\n",
            "Epoch 6/100\n",
            "12/12 [==============================] - 0s 4ms/step - loss: 0.3706 - accuracy: 0.8793 - val_loss: 0.3639 - val_accuracy: 0.9309\n",
            "Epoch 7/100\n",
            "12/12 [==============================] - 0s 4ms/step - loss: 0.3472 - accuracy: 0.8898 - val_loss: 0.3456 - val_accuracy: 0.9309\n",
            "Epoch 8/100\n",
            "12/12 [==============================] - 0s 4ms/step - loss: 0.3290 - accuracy: 0.9055 - val_loss: 0.3294 - val_accuracy: 0.9309\n",
            "Epoch 9/100\n",
            "12/12 [==============================] - 0s 5ms/step - loss: 0.3131 - accuracy: 0.9134 - val_loss: 0.3150 - val_accuracy: 0.9309\n",
            "Epoch 10/100\n",
            "12/12 [==============================] - 0s 5ms/step - loss: 0.2979 - accuracy: 0.9160 - val_loss: 0.3017 - val_accuracy: 0.9362\n",
            "Epoch 11/100\n",
            "12/12 [==============================] - 0s 6ms/step - loss: 0.2841 - accuracy: 0.9186 - val_loss: 0.2899 - val_accuracy: 0.9415\n",
            "Epoch 12/100\n",
            "12/12 [==============================] - 0s 5ms/step - loss: 0.2736 - accuracy: 0.9213 - val_loss: 0.2791 - val_accuracy: 0.9468\n",
            "Epoch 13/100\n",
            "12/12 [==============================] - 0s 4ms/step - loss: 0.2626 - accuracy: 0.9239 - val_loss: 0.2691 - val_accuracy: 0.9521\n",
            "Epoch 14/100\n",
            "12/12 [==============================] - 0s 5ms/step - loss: 0.2524 - accuracy: 0.9265 - val_loss: 0.2601 - val_accuracy: 0.9521\n",
            "Epoch 15/100\n",
            "12/12 [==============================] - 0s 4ms/step - loss: 0.2432 - accuracy: 0.9291 - val_loss: 0.2518 - val_accuracy: 0.9521\n",
            "Epoch 16/100\n",
            "12/12 [==============================] - 0s 5ms/step - loss: 0.2361 - accuracy: 0.9344 - val_loss: 0.2441 - val_accuracy: 0.9521\n",
            "Epoch 17/100\n",
            "12/12 [==============================] - 0s 4ms/step - loss: 0.2287 - accuracy: 0.9370 - val_loss: 0.2369 - val_accuracy: 0.9521\n",
            "Epoch 18/100\n",
            "12/12 [==============================] - 0s 4ms/step - loss: 0.2209 - accuracy: 0.9423 - val_loss: 0.2302 - val_accuracy: 0.9521\n",
            "Epoch 19/100\n",
            "12/12 [==============================] - 0s 5ms/step - loss: 0.2144 - accuracy: 0.9449 - val_loss: 0.2239 - val_accuracy: 0.9521\n",
            "Epoch 20/100\n",
            "12/12 [==============================] - 0s 4ms/step - loss: 0.2089 - accuracy: 0.9475 - val_loss: 0.2181 - val_accuracy: 0.9521\n",
            "Epoch 21/100\n",
            "12/12 [==============================] - 0s 4ms/step - loss: 0.2038 - accuracy: 0.9475 - val_loss: 0.2126 - val_accuracy: 0.9521\n",
            "Epoch 22/100\n",
            "12/12 [==============================] - 0s 5ms/step - loss: 0.1976 - accuracy: 0.9528 - val_loss: 0.2074 - val_accuracy: 0.9574\n",
            "Epoch 23/100\n",
            "12/12 [==============================] - 0s 5ms/step - loss: 0.1936 - accuracy: 0.9528 - val_loss: 0.2025 - val_accuracy: 0.9574\n",
            "Epoch 24/100\n",
            "12/12 [==============================] - 0s 5ms/step - loss: 0.1884 - accuracy: 0.9528 - val_loss: 0.1979 - val_accuracy: 0.9628\n",
            "Epoch 25/100\n",
            "12/12 [==============================] - 0s 4ms/step - loss: 0.1843 - accuracy: 0.9528 - val_loss: 0.1938 - val_accuracy: 0.9628\n",
            "Epoch 26/100\n",
            "12/12 [==============================] - 0s 4ms/step - loss: 0.1805 - accuracy: 0.9528 - val_loss: 0.1896 - val_accuracy: 0.9628\n",
            "Epoch 27/100\n",
            "12/12 [==============================] - 0s 4ms/step - loss: 0.1773 - accuracy: 0.9528 - val_loss: 0.1856 - val_accuracy: 0.9628\n",
            "Epoch 28/100\n",
            "12/12 [==============================] - 0s 4ms/step - loss: 0.1731 - accuracy: 0.9528 - val_loss: 0.1819 - val_accuracy: 0.9628\n",
            "Epoch 29/100\n",
            "12/12 [==============================] - 0s 6ms/step - loss: 0.1698 - accuracy: 0.9554 - val_loss: 0.1785 - val_accuracy: 0.9681\n",
            "Epoch 30/100\n",
            "12/12 [==============================] - 0s 4ms/step - loss: 0.1669 - accuracy: 0.9554 - val_loss: 0.1750 - val_accuracy: 0.9681\n",
            "Epoch 31/100\n",
            "12/12 [==============================] - 0s 5ms/step - loss: 0.1632 - accuracy: 0.9554 - val_loss: 0.1718 - val_accuracy: 0.9681\n",
            "Epoch 32/100\n",
            "12/12 [==============================] - 0s 4ms/step - loss: 0.1602 - accuracy: 0.9554 - val_loss: 0.1689 - val_accuracy: 0.9681\n",
            "Epoch 33/100\n",
            "12/12 [==============================] - 0s 5ms/step - loss: 0.1580 - accuracy: 0.9554 - val_loss: 0.1659 - val_accuracy: 0.9681\n",
            "Epoch 34/100\n",
            "12/12 [==============================] - 0s 5ms/step - loss: 0.1558 - accuracy: 0.9554 - val_loss: 0.1630 - val_accuracy: 0.9681\n",
            "Epoch 35/100\n",
            "12/12 [==============================] - 0s 6ms/step - loss: 0.1530 - accuracy: 0.9554 - val_loss: 0.1604 - val_accuracy: 0.9681\n",
            "Epoch 36/100\n",
            "12/12 [==============================] - 0s 5ms/step - loss: 0.1503 - accuracy: 0.9554 - val_loss: 0.1579 - val_accuracy: 0.9628\n",
            "Epoch 37/100\n",
            "12/12 [==============================] - 0s 6ms/step - loss: 0.1490 - accuracy: 0.9554 - val_loss: 0.1553 - val_accuracy: 0.9628\n",
            "Epoch 38/100\n",
            "12/12 [==============================] - 0s 6ms/step - loss: 0.1462 - accuracy: 0.9580 - val_loss: 0.1531 - val_accuracy: 0.9628\n",
            "Epoch 39/100\n",
            "12/12 [==============================] - 0s 5ms/step - loss: 0.1438 - accuracy: 0.9580 - val_loss: 0.1509 - val_accuracy: 0.9628\n",
            "Epoch 40/100\n",
            "12/12 [==============================] - 0s 4ms/step - loss: 0.1424 - accuracy: 0.9580 - val_loss: 0.1488 - val_accuracy: 0.9628\n",
            "Epoch 41/100\n",
            "12/12 [==============================] - 0s 5ms/step - loss: 0.1404 - accuracy: 0.9606 - val_loss: 0.1467 - val_accuracy: 0.9628\n",
            "Epoch 42/100\n",
            "12/12 [==============================] - 0s 5ms/step - loss: 0.1387 - accuracy: 0.9659 - val_loss: 0.1446 - val_accuracy: 0.9628\n",
            "Epoch 43/100\n",
            "12/12 [==============================] - 0s 5ms/step - loss: 0.1367 - accuracy: 0.9685 - val_loss: 0.1426 - val_accuracy: 0.9628\n",
            "Epoch 44/100\n",
            "12/12 [==============================] - 0s 5ms/step - loss: 0.1351 - accuracy: 0.9685 - val_loss: 0.1408 - val_accuracy: 0.9628\n",
            "Epoch 45/100\n",
            "12/12 [==============================] - 0s 5ms/step - loss: 0.1345 - accuracy: 0.9685 - val_loss: 0.1389 - val_accuracy: 0.9681\n",
            "Epoch 46/100\n",
            "12/12 [==============================] - 0s 5ms/step - loss: 0.1326 - accuracy: 0.9685 - val_loss: 0.1373 - val_accuracy: 0.9681\n",
            "Epoch 47/100\n",
            "12/12 [==============================] - 0s 5ms/step - loss: 0.1304 - accuracy: 0.9685 - val_loss: 0.1355 - val_accuracy: 0.9681\n",
            "Epoch 48/100\n",
            "12/12 [==============================] - 0s 5ms/step - loss: 0.1295 - accuracy: 0.9685 - val_loss: 0.1338 - val_accuracy: 0.9681\n",
            "Epoch 49/100\n",
            "12/12 [==============================] - 0s 4ms/step - loss: 0.1276 - accuracy: 0.9685 - val_loss: 0.1323 - val_accuracy: 0.9681\n",
            "Epoch 50/100\n",
            "12/12 [==============================] - 0s 4ms/step - loss: 0.1276 - accuracy: 0.9685 - val_loss: 0.1307 - val_accuracy: 0.9681\n",
            "Epoch 51/100\n",
            "12/12 [==============================] - 0s 4ms/step - loss: 0.1251 - accuracy: 0.9685 - val_loss: 0.1293 - val_accuracy: 0.9681\n",
            "Epoch 52/100\n",
            "12/12 [==============================] - 0s 4ms/step - loss: 0.1241 - accuracy: 0.9685 - val_loss: 0.1280 - val_accuracy: 0.9681\n",
            "Epoch 53/100\n",
            "12/12 [==============================] - 0s 4ms/step - loss: 0.1234 - accuracy: 0.9685 - val_loss: 0.1265 - val_accuracy: 0.9681\n",
            "Epoch 54/100\n",
            "12/12 [==============================] - 0s 4ms/step - loss: 0.1215 - accuracy: 0.9685 - val_loss: 0.1252 - val_accuracy: 0.9681\n",
            "Epoch 55/100\n",
            "12/12 [==============================] - 0s 5ms/step - loss: 0.1207 - accuracy: 0.9685 - val_loss: 0.1239 - val_accuracy: 0.9681\n",
            "Epoch 56/100\n",
            "12/12 [==============================] - 0s 4ms/step - loss: 0.1193 - accuracy: 0.9711 - val_loss: 0.1226 - val_accuracy: 0.9681\n",
            "Epoch 57/100\n",
            "12/12 [==============================] - 0s 5ms/step - loss: 0.1184 - accuracy: 0.9711 - val_loss: 0.1214 - val_accuracy: 0.9734\n",
            "Epoch 58/100\n",
            "12/12 [==============================] - 0s 5ms/step - loss: 0.1172 - accuracy: 0.9711 - val_loss: 0.1203 - val_accuracy: 0.9734\n",
            "Epoch 59/100\n",
            "12/12 [==============================] - 0s 5ms/step - loss: 0.1170 - accuracy: 0.9711 - val_loss: 0.1191 - val_accuracy: 0.9734\n",
            "Epoch 60/100\n",
            "12/12 [==============================] - 0s 5ms/step - loss: 0.1152 - accuracy: 0.9711 - val_loss: 0.1180 - val_accuracy: 0.9734\n",
            "Epoch 61/100\n",
            "12/12 [==============================] - 0s 5ms/step - loss: 0.1141 - accuracy: 0.9711 - val_loss: 0.1170 - val_accuracy: 0.9734\n",
            "Epoch 62/100\n",
            "12/12 [==============================] - 0s 5ms/step - loss: 0.1138 - accuracy: 0.9711 - val_loss: 0.1158 - val_accuracy: 0.9734\n",
            "Epoch 63/100\n",
            "12/12 [==============================] - 0s 5ms/step - loss: 0.1126 - accuracy: 0.9711 - val_loss: 0.1148 - val_accuracy: 0.9734\n",
            "Epoch 64/100\n",
            "12/12 [==============================] - 0s 4ms/step - loss: 0.1119 - accuracy: 0.9711 - val_loss: 0.1139 - val_accuracy: 0.9734\n",
            "Epoch 65/100\n",
            "12/12 [==============================] - 0s 5ms/step - loss: 0.1114 - accuracy: 0.9711 - val_loss: 0.1129 - val_accuracy: 0.9734\n",
            "Epoch 66/100\n",
            "12/12 [==============================] - 0s 6ms/step - loss: 0.1101 - accuracy: 0.9711 - val_loss: 0.1119 - val_accuracy: 0.9787\n",
            "Epoch 67/100\n",
            "12/12 [==============================] - 0s 5ms/step - loss: 0.1093 - accuracy: 0.9711 - val_loss: 0.1110 - val_accuracy: 0.9787\n",
            "Epoch 68/100\n",
            "12/12 [==============================] - 0s 5ms/step - loss: 0.1094 - accuracy: 0.9711 - val_loss: 0.1102 - val_accuracy: 0.9787\n",
            "Epoch 69/100\n",
            "12/12 [==============================] - 0s 5ms/step - loss: 0.1078 - accuracy: 0.9711 - val_loss: 0.1093 - val_accuracy: 0.9787\n",
            "Epoch 70/100\n",
            "12/12 [==============================] - 0s 5ms/step - loss: 0.1074 - accuracy: 0.9711 - val_loss: 0.1083 - val_accuracy: 0.9787\n",
            "Epoch 71/100\n",
            "12/12 [==============================] - 0s 5ms/step - loss: 0.1068 - accuracy: 0.9711 - val_loss: 0.1075 - val_accuracy: 0.9787\n",
            "Epoch 72/100\n",
            "12/12 [==============================] - 0s 5ms/step - loss: 0.1055 - accuracy: 0.9738 - val_loss: 0.1068 - val_accuracy: 0.9787\n",
            "Epoch 73/100\n",
            "12/12 [==============================] - 0s 5ms/step - loss: 0.1053 - accuracy: 0.9738 - val_loss: 0.1059 - val_accuracy: 0.9787\n",
            "Epoch 74/100\n",
            "12/12 [==============================] - 0s 5ms/step - loss: 0.1044 - accuracy: 0.9764 - val_loss: 0.1052 - val_accuracy: 0.9734\n",
            "Epoch 75/100\n",
            "12/12 [==============================] - 0s 5ms/step - loss: 0.1037 - accuracy: 0.9764 - val_loss: 0.1045 - val_accuracy: 0.9734\n",
            "Epoch 76/100\n",
            "12/12 [==============================] - 0s 5ms/step - loss: 0.1031 - accuracy: 0.9764 - val_loss: 0.1037 - val_accuracy: 0.9734\n",
            "Epoch 77/100\n",
            "12/12 [==============================] - 0s 4ms/step - loss: 0.1030 - accuracy: 0.9764 - val_loss: 0.1029 - val_accuracy: 0.9734\n",
            "Epoch 78/100\n",
            "12/12 [==============================] - 0s 6ms/step - loss: 0.1022 - accuracy: 0.9764 - val_loss: 0.1022 - val_accuracy: 0.9734\n",
            "Epoch 79/100\n",
            "12/12 [==============================] - 0s 4ms/step - loss: 0.1013 - accuracy: 0.9764 - val_loss: 0.1016 - val_accuracy: 0.9734\n",
            "Epoch 80/100\n",
            "12/12 [==============================] - 0s 4ms/step - loss: 0.1007 - accuracy: 0.9764 - val_loss: 0.1009 - val_accuracy: 0.9734\n",
            "Epoch 81/100\n",
            "12/12 [==============================] - 0s 5ms/step - loss: 0.1001 - accuracy: 0.9764 - val_loss: 0.1002 - val_accuracy: 0.9734\n",
            "Epoch 82/100\n",
            "12/12 [==============================] - 0s 5ms/step - loss: 0.1006 - accuracy: 0.9764 - val_loss: 0.0996 - val_accuracy: 0.9734\n",
            "Epoch 83/100\n",
            "12/12 [==============================] - 0s 5ms/step - loss: 0.0991 - accuracy: 0.9764 - val_loss: 0.0989 - val_accuracy: 0.9734\n",
            "Epoch 84/100\n",
            "12/12 [==============================] - 0s 5ms/step - loss: 0.0989 - accuracy: 0.9764 - val_loss: 0.0984 - val_accuracy: 0.9734\n",
            "Epoch 85/100\n",
            "12/12 [==============================] - 0s 5ms/step - loss: 0.0985 - accuracy: 0.9764 - val_loss: 0.0977 - val_accuracy: 0.9734\n",
            "Epoch 86/100\n",
            "12/12 [==============================] - 0s 5ms/step - loss: 0.0977 - accuracy: 0.9764 - val_loss: 0.0972 - val_accuracy: 0.9734\n",
            "Epoch 87/100\n",
            "12/12 [==============================] - 0s 5ms/step - loss: 0.0972 - accuracy: 0.9790 - val_loss: 0.0966 - val_accuracy: 0.9734\n",
            "Epoch 88/100\n",
            "12/12 [==============================] - 0s 4ms/step - loss: 0.0969 - accuracy: 0.9790 - val_loss: 0.0960 - val_accuracy: 0.9734\n",
            "Epoch 89/100\n",
            "12/12 [==============================] - 0s 5ms/step - loss: 0.0970 - accuracy: 0.9790 - val_loss: 0.0954 - val_accuracy: 0.9787\n",
            "Epoch 90/100\n",
            "12/12 [==============================] - 0s 5ms/step - loss: 0.0966 - accuracy: 0.9790 - val_loss: 0.0948 - val_accuracy: 0.9787\n",
            "Epoch 91/100\n",
            "12/12 [==============================] - 0s 4ms/step - loss: 0.0952 - accuracy: 0.9790 - val_loss: 0.0943 - val_accuracy: 0.9787\n",
            "Epoch 92/100\n",
            "12/12 [==============================] - 0s 4ms/step - loss: 0.0952 - accuracy: 0.9790 - val_loss: 0.0938 - val_accuracy: 0.9787\n",
            "Epoch 93/100\n",
            "12/12 [==============================] - 0s 4ms/step - loss: 0.0951 - accuracy: 0.9790 - val_loss: 0.0933 - val_accuracy: 0.9787\n",
            "Epoch 94/100\n",
            "12/12 [==============================] - 0s 6ms/step - loss: 0.0938 - accuracy: 0.9790 - val_loss: 0.0928 - val_accuracy: 0.9787\n",
            "Epoch 95/100\n",
            "12/12 [==============================] - 0s 5ms/step - loss: 0.0936 - accuracy: 0.9790 - val_loss: 0.0923 - val_accuracy: 0.9787\n",
            "Epoch 96/100\n",
            "12/12 [==============================] - 0s 5ms/step - loss: 0.0932 - accuracy: 0.9790 - val_loss: 0.0918 - val_accuracy: 0.9787\n",
            "Epoch 97/100\n",
            "12/12 [==============================] - 0s 5ms/step - loss: 0.0926 - accuracy: 0.9790 - val_loss: 0.0913 - val_accuracy: 0.9787\n",
            "Epoch 98/100\n",
            "12/12 [==============================] - 0s 5ms/step - loss: 0.0923 - accuracy: 0.9790 - val_loss: 0.0908 - val_accuracy: 0.9787\n",
            "Epoch 99/100\n",
            "12/12 [==============================] - 0s 4ms/step - loss: 0.0921 - accuracy: 0.9790 - val_loss: 0.0904 - val_accuracy: 0.9787\n",
            "Epoch 100/100\n",
            "12/12 [==============================] - 0s 4ms/step - loss: 0.0920 - accuracy: 0.9790 - val_loss: 0.0899 - val_accuracy: 0.9787\n"
          ],
          "name": "stdout"
        }
      ]
    },
    {
      "cell_type": "code",
      "metadata": {
        "id": "CNVks20xAL1Q",
        "colab_type": "code",
        "outputId": "00c65be0-ddca-423f-d7b7-0a0368b411b9",
        "colab": {
          "base_uri": "https://localhost:8080/",
          "height": 85
        }
      },
      "source": [
        "#evaluate the model\n",
        "print(\"Trian_Score:\",model.evaluate(X_train,Y_train))\n",
        "print(\"Test_score:\",model.evaluate(X_test,Y_test))"
      ],
      "execution_count": 23,
      "outputs": [
        {
          "output_type": "stream",
          "text": [
            "12/12 [==============================] - 0s 2ms/step - loss: 0.0915 - accuracy: 0.9790\n",
            "Trian_Score: [0.09151338785886765, 0.9790025949478149]\n",
            "6/6 [==============================] - 0s 2ms/step - loss: 0.0899 - accuracy: 0.9787\n",
            "Test_score: [0.08987169712781906, 0.978723406791687]\n"
          ],
          "name": "stdout"
        }
      ]
    },
    {
      "cell_type": "code",
      "metadata": {
        "id": "kQjryaJXArGW",
        "colab_type": "code",
        "outputId": "9bbdffc8-7d4e-4c83-d404-51f1cc068b35",
        "colab": {
          "base_uri": "https://localhost:8080/",
          "height": 282
        }
      },
      "source": [
        "#Plot the object return by model.fit\n",
        "import matplotlib.pyplot as plt\n",
        "plt.plot(r.history['loss'],label = 'loss')\n",
        "plt.plot(r.history['val_loss'],label = 'Val loss')\n",
        "plt.legend()"
      ],
      "execution_count": 24,
      "outputs": [
        {
          "output_type": "execute_result",
          "data": {
            "text/plain": [
              "<matplotlib.legend.Legend at 0x7fc4904c8eb8>"
            ]
          },
          "metadata": {
            "tags": []
          },
          "execution_count": 24
        },
        {
          "output_type": "display_data",
          "data": {
            "image/png": "[encoded data removed]",
            "text/plain": [
              "<Figure size 432x288 with 1 Axes>"
            ]
          },
          "metadata": {
            "tags": [],
            "needs_background": "light"
          }
        }
      ]
    },
    {
      "cell_type": "code",
      "metadata": {
        "id": "j8Kxn6usBV8U",
        "colab_type": "code",
        "outputId": "1083d65f-cced-44a4-834e-17966c1f26aa",
        "colab": {
          "base_uri": "https://localhost:8080/",
          "height": 282
        }
      },
      "source": [
        "plt.plot(r.history['accuracy'],label = 'accurcay')\n",
        "plt.plot(r.history['val_accuracy'],label = 'val_accuracy')\n",
        "plt.legend()"
      ],
      "execution_count": 25,
      "outputs": [
        {
          "output_type": "execute_result",
          "data": {
            "text/plain": [
              "<matplotlib.legend.Legend at 0x7fc4904c3470>"
            ]
          },
          "metadata": {
            "tags": []
          },
          "execution_count": 25
        },
        {
          "output_type": "display_data",
          "data": {
            "image/png": "[encoded data removed]",
            "text/plain": [
              "<Figure size 432x288 with 1 Axes>"
            ]
          },
          "metadata": {
            "tags": [],
            "needs_background": "light"
          }
        }
      ]
    },
    {
      "cell_type": "code",
      "metadata": {
        "id": "-rNyAtu4B9sf",
        "colab_type": "code",
        "colab": {}
      },
      "source": [
        "#Prediction of Test data "
      ],
      "execution_count": 0,
      "outputs": []
    },
    {
      "cell_type": "code",
      "metadata": {
        "id": "LQD0Yntt9ovl",
        "colab_type": "code",
        "colab": {}
      },
      "source": [
        "P = model.predict(X_test)"
      ],
      "execution_count": 0,
      "outputs": []
    },
    {
      "cell_type": "code",
      "metadata": {
        "id": "SL5Zqi7R-dRN",
        "colab_type": "code",
        "colab": {
          "base_uri": "https://localhost:8080/",
          "height": 1000
        },
        "outputId": "e74ee2ed-9aaf-4fd3-b50c-df93e681a512"
      },
      "source": [
        "print(P) # Output in Probabilities"
      ],
      "execution_count": 29,
      "outputs": [
        {
          "output_type": "stream",
          "text": [
            "[[9.25029635e-01]\n",
            " [1.90520555e-01]\n",
            " [9.98770416e-01]\n",
            " [9.98478711e-01]\n",
            " [3.41876745e-01]\n",
            " [9.88287270e-01]\n",
            " [3.27121690e-02]\n",
            " [6.42925084e-01]\n",
            " [2.59668741e-04]\n",
            " [9.74856138e-01]\n",
            " [6.27244830e-01]\n",
            " [8.65228474e-01]\n",
            " [9.62392569e-01]\n",
            " [7.94622183e-01]\n",
            " [5.41358329e-02]\n",
            " [9.32330222e-05]\n",
            " [1.76665981e-05]\n",
            " [7.67293930e-01]\n",
            " [9.04312789e-01]\n",
            " [9.90145743e-01]\n",
            " [9.94823217e-01]\n",
            " [1.02212034e-01]\n",
            " [9.94249105e-01]\n",
            " [1.76960089e-06]\n",
            " [4.66951588e-03]\n",
            " [9.60082769e-01]\n",
            " [4.45025180e-05]\n",
            " [3.20012532e-02]\n",
            " [9.97007072e-01]\n",
            " [2.01864243e-01]\n",
            " [6.41368935e-03]\n",
            " [9.83348548e-01]\n",
            " [9.96376216e-01]\n",
            " [4.93784696e-01]\n",
            " [9.54362869e-01]\n",
            " [9.98835623e-01]\n",
            " [6.12676668e-04]\n",
            " [9.93453860e-01]\n",
            " [4.24910511e-04]\n",
            " [8.76660764e-01]\n",
            " [9.78497684e-01]\n",
            " [6.02612039e-03]\n",
            " [1.20392911e-01]\n",
            " [9.99153018e-01]\n",
            " [2.51426734e-03]\n",
            " [9.93527949e-01]\n",
            " [1.67853796e-04]\n",
            " [1.62433293e-02]\n",
            " [9.99597013e-01]\n",
            " [9.97107923e-01]\n",
            " [4.56818612e-03]\n",
            " [9.99130547e-01]\n",
            " [9.94079232e-01]\n",
            " [9.90254104e-01]\n",
            " [7.97427539e-03]\n",
            " [4.49631218e-04]\n",
            " [1.01501658e-03]\n",
            " [9.65020657e-01]\n",
            " [9.91376460e-01]\n",
            " [9.95326757e-01]\n",
            " [6.31250560e-01]\n",
            " [9.93200600e-01]\n",
            " [9.63025510e-01]\n",
            " [9.99747455e-01]\n",
            " [1.45025298e-01]\n",
            " [9.42568183e-01]\n",
            " [9.29659128e-01]\n",
            " [8.55091274e-01]\n",
            " [9.88496661e-01]\n",
            " [1.36228735e-02]\n",
            " [7.39754796e-01]\n",
            " [9.95430589e-01]\n",
            " [5.37261774e-04]\n",
            " [3.85618865e-01]\n",
            " [8.99788082e-01]\n",
            " [8.61216784e-01]\n",
            " [9.03346062e-01]\n",
            " [7.90589750e-01]\n",
            " [5.15704274e-01]\n",
            " [9.49780881e-01]\n",
            " [4.89436127e-02]\n",
            " [9.60103512e-01]\n",
            " [9.14900959e-01]\n",
            " [6.71985209e-01]\n",
            " [8.54891658e-01]\n",
            " [3.66890468e-02]\n",
            " [6.48898482e-01]\n",
            " [2.15620688e-07]\n",
            " [4.69587505e-01]\n",
            " [6.61092236e-06]\n",
            " [8.99584219e-03]\n",
            " [8.55331898e-01]\n",
            " [9.98351693e-01]\n",
            " [9.43574250e-01]\n",
            " [9.99171138e-01]\n",
            " [5.12741566e-01]\n",
            " [5.10621928e-02]\n",
            " [9.68796909e-01]\n",
            " [2.61280437e-08]\n",
            " [9.71656084e-01]\n",
            " [6.50184676e-02]\n",
            " [9.89045143e-01]\n",
            " [1.31121986e-02]\n",
            " [6.14024187e-03]\n",
            " [9.87985909e-01]\n",
            " [9.99223709e-01]\n",
            " [9.75896001e-01]\n",
            " [9.99328852e-01]\n",
            " [9.97593224e-01]\n",
            " [9.96780992e-01]\n",
            " [9.80807245e-01]\n",
            " [9.37506676e-01]\n",
            " [9.86325204e-01]\n",
            " [9.99533057e-01]\n",
            " [9.97690439e-01]\n",
            " [9.64251578e-01]\n",
            " [9.81194913e-01]\n",
            " [9.66803491e-01]\n",
            " [9.58307087e-01]\n",
            " [7.78725088e-01]\n",
            " [9.92606521e-01]\n",
            " [9.97949779e-01]\n",
            " [8.19017470e-01]\n",
            " [9.99808133e-01]\n",
            " [9.97142375e-01]\n",
            " [9.91813779e-01]\n",
            " [8.91339302e-01]\n",
            " [9.77121651e-01]\n",
            " [9.86343622e-01]\n",
            " [5.62335808e-05]\n",
            " [1.29671246e-01]\n",
            " [8.28184071e-04]\n",
            " [1.37107840e-04]\n",
            " [9.50715318e-02]\n",
            " [9.95463312e-01]\n",
            " [5.01433271e-04]\n",
            " [1.70790091e-01]\n",
            " [9.89645779e-01]\n",
            " [9.78171051e-01]\n",
            " [2.14860559e-01]\n",
            " [9.85334516e-01]\n",
            " [9.97223020e-01]\n",
            " [9.99745071e-01]\n",
            " [8.61681044e-01]\n",
            " [9.83199716e-01]\n",
            " [9.84746695e-01]\n",
            " [8.78260255e-01]\n",
            " [5.97035408e-01]\n",
            " [9.61697996e-01]\n",
            " [3.90008181e-01]\n",
            " [8.98202538e-01]\n",
            " [5.23591936e-02]\n",
            " [8.65813112e-04]\n",
            " [9.92185295e-01]\n",
            " [1.58482090e-01]\n",
            " [9.94907439e-01]\n",
            " [2.18974590e-01]\n",
            " [8.30217600e-01]\n",
            " [9.79294121e-01]\n",
            " [7.00821448e-03]\n",
            " [9.64528561e-01]\n",
            " [3.77573259e-02]\n",
            " [5.04986197e-02]\n",
            " [9.82666731e-01]\n",
            " [9.99080062e-01]\n",
            " [3.19453776e-02]\n",
            " [9.54952121e-01]\n",
            " [1.50913186e-03]\n",
            " [9.94831562e-01]\n",
            " [9.97598827e-01]\n",
            " [2.29125135e-06]\n",
            " [9.59414721e-01]\n",
            " [9.94518459e-01]\n",
            " [8.07069004e-01]\n",
            " [9.22834218e-01]\n",
            " [5.86627563e-03]\n",
            " [9.88438547e-01]\n",
            " [1.41036808e-01]\n",
            " [9.58814859e-01]\n",
            " [1.30136559e-05]\n",
            " [4.81457356e-03]\n",
            " [8.06655884e-01]\n",
            " [9.95789111e-01]\n",
            " [9.48218465e-01]\n",
            " [7.85313318e-07]\n",
            " [1.90926692e-03]\n",
            " [8.40518951e-01]\n",
            " [9.24068511e-01]]\n"
          ],
          "name": "stdout"
        }
      ]
    },
    {
      "cell_type": "code",
      "metadata": {
        "id": "h0Rij94B-flc",
        "colab_type": "code",
        "colab": {
          "base_uri": "https://localhost:8080/",
          "height": 153
        },
        "outputId": "0ee20702-dd18-4613-a68b-f153de992d59"
      },
      "source": [
        "#Round up to get the actual prediction # flatten since target is 1 D array so our output should also be  1D array\n",
        "import numpy as np\n",
        "\n",
        "P = np.round(P).flatten()\n",
        "print(P)"
      ],
      "execution_count": 31,
      "outputs": [
        {
          "output_type": "stream",
          "text": [
            "[1. 0. 1. 1. 0. 1. 0. 1. 0. 1. 1. 1. 1. 1. 0. 0. 0. 1. 1. 1. 1. 0. 1. 0.\n",
            " 0. 1. 0. 0. 1. 0. 0. 1. 1. 0. 1. 1. 0. 1. 0. 1. 1. 0. 0. 1. 0. 1. 0. 0.\n",
            " 1. 1. 0. 1. 1. 1. 0. 0. 0. 1. 1. 1. 1. 1. 1. 1. 0. 1. 1. 1. 1. 0. 1. 1.\n",
            " 0. 0. 1. 1. 1. 1. 1. 1. 0. 1. 1. 1. 1. 0. 1. 0. 0. 0. 0. 1. 1. 1. 1. 1.\n",
            " 0. 1. 0. 1. 0. 1. 0. 0. 1. 1. 1. 1. 1. 1. 1. 1. 1. 1. 1. 1. 1. 1. 1. 1.\n",
            " 1. 1. 1. 1. 1. 1. 1. 1. 1. 0. 0. 0. 0. 0. 1. 0. 0. 1. 1. 0. 1. 1. 1. 1.\n",
            " 1. 1. 1. 1. 1. 0. 1. 0. 0. 1. 0. 1. 0. 1. 1. 0. 1. 0. 0. 1. 1. 0. 1. 0.\n",
            " 1. 1. 0. 1. 1. 1. 1. 0. 1. 0. 1. 0. 0. 1. 1. 1. 0. 0. 1. 1.]\n"
          ],
          "name": "stdout"
        }
      ]
    },
    {
      "cell_type": "code",
      "metadata": {
        "id": "fOusMagL-9JJ",
        "colab_type": "code",
        "colab": {
          "base_uri": "https://localhost:8080/",
          "height": 68
        },
        "outputId": "1614e93c-295c-452f-9605-efedc5065e12"
      },
      "source": [
        "#calculate the accuracy and compare it with the evaluate() output\n",
        "print(\"maually calculated accuracy:\", np.mean(P==Y_test))\n",
        "print(\"Evaluate Output:\", model.evaluate(X_test,Y_test))"
      ],
      "execution_count": 35,
      "outputs": [
        {
          "output_type": "stream",
          "text": [
            "maually calculated accuracy: 0.9787234042553191\n",
            "6/6 [==============================] - 0s 2ms/step - loss: 0.0899 - accuracy: 0.9787\n",
            "Evaluate Output: [0.08987169712781906, 0.978723406791687]\n"
          ],
          "name": "stdout"
        }
      ]
    }
  ]
}