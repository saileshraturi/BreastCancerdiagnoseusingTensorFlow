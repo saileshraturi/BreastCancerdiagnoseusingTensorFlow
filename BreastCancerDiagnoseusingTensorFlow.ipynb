{
  "nbformat": 4,
  "nbformat_minor": 0,
  "metadata": {
    "colab": {
      "name": "BreastCancerDiagnoseusingTensorFlow.ipynb",
      "provenance": [],
      "authorship_tag": "ABX9TyM30aDYvFljQBabf0NsQm+o",
      "include_colab_link": true
    },
    "kernelspec": {
      "name": "python3",
      "display_name": "Python 3"
    },
    "accelerator": "GPU"
  },
  "cells": [
    {
      "cell_type": "markdown",
      "metadata": {
        "id": "view-in-github",
        "colab_type": "text"
      },
      "source": [
        "<a href=\"https://colab.research.google.com/github/saileshraturi/BreastCancerdiagnoseusingTensorFlow/blob/master/BreastCancerDiagnoseusingTensorFlow.ipynb\" target=\"_parent\"><img src=\"https://colab.research.google.com/assets/colab-badge.svg\" alt=\"Open In Colab\"/></a>"
      ]
    },
    {
      "cell_type": "code",
      "metadata": {
        "id": "UyCNGAYNymZc",
        "colab_type": "code",
        "colab": {
          "base_uri": "https://localhost:8080/",
          "height": 34
        },
        "outputId": "2f13bf02-89ee-46c6-d0ce-31d8622a9936"
      },
      "source": [
        "import tensorflow as tf\n",
        "print(tf.__version__)"
      ],
      "execution_count": 1,
      "outputs": [
        {
          "output_type": "stream",
          "text": [
            "2.2.0-rc3\n"
          ],
          "name": "stdout"
        }
      ]
    },
    {
      "cell_type": "code",
      "metadata": {
        "id": "KphiJshC0apQ",
        "colab_type": "code",
        "colab": {}
      },
      "source": [
        "#load dataset\n",
        "from sklearn.datasets import load_breast_cancer"
      ],
      "execution_count": 0,
      "outputs": []
    },
    {
      "cell_type": "code",
      "metadata": {
        "id": "g9_UKuMc0vzW",
        "colab_type": "code",
        "colab": {}
      },
      "source": [
        "data = load_breast_cancer()"
      ],
      "execution_count": 0,
      "outputs": []
    },
    {
      "cell_type": "code",
      "metadata": {
        "id": "pv0w2a0j04mN",
        "colab_type": "code",
        "colab": {
          "base_uri": "https://localhost:8080/",
          "height": 34
        },
        "outputId": "9b6386f9-16a8-4b79-bc49-21a5b4f93cad"
      },
      "source": [
        "type(data)"
      ],
      "execution_count": 4,
      "outputs": [
        {
          "output_type": "execute_result",
          "data": {
            "text/plain": [
              "sklearn.utils.Bunch"
            ]
          },
          "metadata": {
            "tags": []
          },
          "execution_count": 4
        }
      ]
    },
    {
      "cell_type": "code",
      "metadata": {
        "id": "82GjKUSY1Db9",
        "colab_type": "code",
        "colab": {
          "base_uri": "https://localhost:8080/",
          "height": 34
        },
        "outputId": "45e0bd49-f2d3-4c39-e10f-a72b584682a3"
      },
      "source": [
        "data.keys()"
      ],
      "execution_count": 5,
      "outputs": [
        {
          "output_type": "execute_result",
          "data": {
            "text/plain": [
              "dict_keys(['data', 'target', 'target_names', 'DESCR', 'feature_names', 'filename'])"
            ]
          },
          "metadata": {
            "tags": []
          },
          "execution_count": 5
        }
      ]
    },
    {
      "cell_type": "code",
      "metadata": {
        "id": "f_w2H8uY1K9T",
        "colab_type": "code",
        "colab": {
          "base_uri": "https://localhost:8080/",
          "height": 34
        },
        "outputId": "0dd2fd40-4816-491c-d887-4d90e9e6bc05"
      },
      "source": [
        "data.data.shape"
      ],
      "execution_count": 6,
      "outputs": [
        {
          "output_type": "execute_result",
          "data": {
            "text/plain": [
              "(569, 30)"
            ]
          },
          "metadata": {
            "tags": []
          },
          "execution_count": 6
        }
      ]
    },
    {
      "cell_type": "code",
      "metadata": {
        "id": "r4oyB23B1pzJ",
        "colab_type": "code",
        "colab": {
          "base_uri": "https://localhost:8080/",
          "height": 34
        },
        "outputId": "da0a768b-246d-4b53-aafa-7adee68ea43d"
      },
      "source": [
        "data.target_names"
      ],
      "execution_count": 8,
      "outputs": [
        {
          "output_type": "execute_result",
          "data": {
            "text/plain": [
              "array(['malignant', 'benign'], dtype='<U9')"
            ]
          },
          "metadata": {
            "tags": []
          },
          "execution_count": 8
        }
      ]
    },
    {
      "cell_type": "code",
      "metadata": {
        "id": "cLCC6yi21uGO",
        "colab_type": "code",
        "colab": {
          "base_uri": "https://localhost:8080/",
          "height": 34
        },
        "outputId": "d3aa6759-57e3-43d2-f4ce-bfc0422d9419"
      },
      "source": [
        "data.target.shape"
      ],
      "execution_count": 9,
      "outputs": [
        {
          "output_type": "execute_result",
          "data": {
            "text/plain": [
              "(569,)"
            ]
          },
          "metadata": {
            "tags": []
          },
          "execution_count": 9
        }
      ]
    },
    {
      "cell_type": "code",
      "metadata": {
        "id": "AtJBV0Wy14cm",
        "colab_type": "code",
        "colab": {
          "base_uri": "https://localhost:8080/",
          "height": 187
        },
        "outputId": "ffae3e21-f5b2-4c13-baf8-686956c7c8a5"
      },
      "source": [
        "data.feature_names"
      ],
      "execution_count": 10,
      "outputs": [
        {
          "output_type": "execute_result",
          "data": {
            "text/plain": [
              "array(['mean radius', 'mean texture', 'mean perimeter', 'mean area',\n",
              "       'mean smoothness', 'mean compactness', 'mean concavity',\n",
              "       'mean concave points', 'mean symmetry', 'mean fractal dimension',\n",
              "       'radius error', 'texture error', 'perimeter error', 'area error',\n",
              "       'smoothness error', 'compactness error', 'concavity error',\n",
              "       'concave points error', 'symmetry error',\n",
              "       'fractal dimension error', 'worst radius', 'worst texture',\n",
              "       'worst perimeter', 'worst area', 'worst smoothness',\n",
              "       'worst compactness', 'worst concavity', 'worst concave points',\n",
              "       'worst symmetry', 'worst fractal dimension'], dtype='<U23')"
            ]
          },
          "metadata": {
            "tags": []
          },
          "execution_count": 10
        }
      ]
    },
    {
      "cell_type": "code",
      "metadata": {
        "id": "Fx0PgIgj2J1b",
        "colab_type": "code",
        "colab": {}
      },
      "source": [
        "#Train Test split\n",
        "from sklearn.model_selection import train_test_split"
      ],
      "execution_count": 0,
      "outputs": []
    },
    {
      "cell_type": "code",
      "metadata": {
        "id": "-KGySuV95Ciz",
        "colab_type": "code",
        "colab": {}
      },
      "source": [
        "X_train,X_test,Y_train,Y_test = train_test_split(data.data,data.target,test_size = 0.33)"
      ],
      "execution_count": 0,
      "outputs": []
    },
    {
      "cell_type": "code",
      "metadata": {
        "id": "lPHVoY6m5gpz",
        "colab_type": "code",
        "colab": {}
      },
      "source": [
        "N,D = X_train.shape"
      ],
      "execution_count": 0,
      "outputs": []
    },
    {
      "cell_type": "code",
      "metadata": {
        "id": "xv_emZer5kj7",
        "colab_type": "code",
        "colab": {
          "base_uri": "https://localhost:8080/",
          "height": 34
        },
        "outputId": "0d53b8b8-0f9d-4276-8a49-e86a46fef812"
      },
      "source": [
        "Y_train.shape"
      ],
      "execution_count": 14,
      "outputs": [
        {
          "output_type": "execute_result",
          "data": {
            "text/plain": [
              "(381,)"
            ]
          },
          "metadata": {
            "tags": []
          },
          "execution_count": 14
        }
      ]
    },
    {
      "cell_type": "code",
      "metadata": {
        "id": "pfz-HpDQ5n52",
        "colab_type": "code",
        "colab": {}
      },
      "source": [
        "# Scaling of Data\n",
        "from sklearn.preprocessing import StandardScaler"
      ],
      "execution_count": 0,
      "outputs": []
    },
    {
      "cell_type": "code",
      "metadata": {
        "id": "sZYvq86R70qu",
        "colab_type": "code",
        "colab": {}
      },
      "source": [
        "scaler = StandardScaler()"
      ],
      "execution_count": 0,
      "outputs": []
    },
    {
      "cell_type": "code",
      "metadata": {
        "id": "_it3E0mF9CWC",
        "colab_type": "code",
        "colab": {}
      },
      "source": [
        "X_train = scaler.fit_transform(X_train)\n",
        "X_test = scaler.transform(X_test)"
      ],
      "execution_count": 0,
      "outputs": []
    },
    {
      "cell_type": "code",
      "metadata": {
        "id": "e6uNgRg29QGO",
        "colab_type": "code",
        "colab": {}
      },
      "source": [
        "#Build the model\n",
        "model  = tf.keras.models.Sequential([\n",
        "    tf.keras.layers.Input(shape=(D,)),\n",
        "    tf.keras.layers.Dense(1,activation='sigmoid')\n",
        "])"
      ],
      "execution_count": 0,
      "outputs": []
    },
    {
      "cell_type": "code",
      "metadata": {
        "id": "1Vq146dP-s7R",
        "colab_type": "code",
        "colab": {}
      },
      "source": [
        "#Another way of modelling\n",
        "# model = tf.keras.model.Sequential()\n",
        "#model.add(tf.keras.layes.Dense(1,input_Shape =(D,),activation = 'sigmoid'))"
      ],
      "execution_count": 0,
      "outputs": []
    },
    {
      "cell_type": "code",
      "metadata": {
        "id": "Sd5l90Pn_TV6",
        "colab_type": "code",
        "colab": {}
      },
      "source": [
        "model.compile(optimizer='adam',\n",
        "              loss='binary_crossentropy',\n",
        "              metrics = ['accuracy'])"
      ],
      "execution_count": 0,
      "outputs": []
    },
    {
      "cell_type": "code",
      "metadata": {
        "id": "7KmtSTeP_t1F",
        "colab_type": "code",
        "colab": {
          "base_uri": "https://localhost:8080/",
          "height": 1000
        },
        "outputId": "f139e0d1-bce7-43fc-dd3e-f3398dd7aaa4"
      },
      "source": [
        "#Train the model\n",
        "r = model.fit(X_train,Y_train,validation_data=(X_test,Y_test),epochs=100)"
      ],
      "execution_count": 38,
      "outputs": [
        {
          "output_type": "stream",
          "text": [
            "Epoch 1/100\n",
            "12/12 [==============================] - 0s 12ms/step - loss: 0.6954 - accuracy: 0.5932 - val_loss: 0.6239 - val_accuracy: 0.6862\n",
            "Epoch 2/100\n",
            "12/12 [==============================] - 0s 6ms/step - loss: 0.6378 - accuracy: 0.6614 - val_loss: 0.5736 - val_accuracy: 0.7394\n",
            "Epoch 3/100\n",
            "12/12 [==============================] - 0s 6ms/step - loss: 0.5877 - accuracy: 0.7192 - val_loss: 0.5302 - val_accuracy: 0.7766\n",
            "Epoch 4/100\n",
            "12/12 [==============================] - 0s 6ms/step - loss: 0.5438 - accuracy: 0.7585 - val_loss: 0.4930 - val_accuracy: 0.8138\n",
            "Epoch 5/100\n",
            "12/12 [==============================] - 0s 6ms/step - loss: 0.5054 - accuracy: 0.8058 - val_loss: 0.4606 - val_accuracy: 0.8245\n",
            "Epoch 6/100\n",
            "12/12 [==============================] - 0s 6ms/step - loss: 0.4722 - accuracy: 0.8241 - val_loss: 0.4328 - val_accuracy: 0.8404\n",
            "Epoch 7/100\n",
            "12/12 [==============================] - 0s 6ms/step - loss: 0.4435 - accuracy: 0.8478 - val_loss: 0.4087 - val_accuracy: 0.8457\n",
            "Epoch 8/100\n",
            "12/12 [==============================] - 0s 6ms/step - loss: 0.4184 - accuracy: 0.8609 - val_loss: 0.3875 - val_accuracy: 0.8564\n",
            "Epoch 9/100\n",
            "12/12 [==============================] - 0s 7ms/step - loss: 0.3955 - accuracy: 0.8661 - val_loss: 0.3683 - val_accuracy: 0.8777\n",
            "Epoch 10/100\n",
            "12/12 [==============================] - 0s 7ms/step - loss: 0.3757 - accuracy: 0.8740 - val_loss: 0.3515 - val_accuracy: 0.8883\n",
            "Epoch 11/100\n",
            "12/12 [==============================] - 0s 7ms/step - loss: 0.3576 - accuracy: 0.8766 - val_loss: 0.3367 - val_accuracy: 0.8989\n",
            "Epoch 12/100\n",
            "12/12 [==============================] - 0s 6ms/step - loss: 0.3417 - accuracy: 0.8871 - val_loss: 0.3231 - val_accuracy: 0.9043\n",
            "Epoch 13/100\n",
            "12/12 [==============================] - 0s 6ms/step - loss: 0.3268 - accuracy: 0.8898 - val_loss: 0.3107 - val_accuracy: 0.9096\n",
            "Epoch 14/100\n",
            "12/12 [==============================] - 0s 6ms/step - loss: 0.3140 - accuracy: 0.9003 - val_loss: 0.2996 - val_accuracy: 0.9255\n",
            "Epoch 15/100\n",
            "12/12 [==============================] - 0s 6ms/step - loss: 0.3019 - accuracy: 0.9055 - val_loss: 0.2894 - val_accuracy: 0.9255\n",
            "Epoch 16/100\n",
            "12/12 [==============================] - 0s 6ms/step - loss: 0.2906 - accuracy: 0.9186 - val_loss: 0.2800 - val_accuracy: 0.9309\n",
            "Epoch 17/100\n",
            "12/12 [==============================] - 0s 6ms/step - loss: 0.2805 - accuracy: 0.9186 - val_loss: 0.2712 - val_accuracy: 0.9309\n",
            "Epoch 18/100\n",
            "12/12 [==============================] - 0s 6ms/step - loss: 0.2718 - accuracy: 0.9213 - val_loss: 0.2634 - val_accuracy: 0.9309\n",
            "Epoch 19/100\n",
            "12/12 [==============================] - 0s 7ms/step - loss: 0.2620 - accuracy: 0.9213 - val_loss: 0.2561 - val_accuracy: 0.9309\n",
            "Epoch 20/100\n",
            "12/12 [==============================] - 0s 6ms/step - loss: 0.2548 - accuracy: 0.9213 - val_loss: 0.2493 - val_accuracy: 0.9309\n",
            "Epoch 21/100\n",
            "12/12 [==============================] - 0s 6ms/step - loss: 0.2477 - accuracy: 0.9265 - val_loss: 0.2429 - val_accuracy: 0.9309\n",
            "Epoch 22/100\n",
            "12/12 [==============================] - 0s 7ms/step - loss: 0.2406 - accuracy: 0.9265 - val_loss: 0.2369 - val_accuracy: 0.9362\n",
            "Epoch 23/100\n",
            "12/12 [==============================] - 0s 6ms/step - loss: 0.2331 - accuracy: 0.9291 - val_loss: 0.2313 - val_accuracy: 0.9309\n",
            "Epoch 24/100\n",
            "12/12 [==============================] - 0s 6ms/step - loss: 0.2271 - accuracy: 0.9318 - val_loss: 0.2261 - val_accuracy: 0.9309\n",
            "Epoch 25/100\n",
            "12/12 [==============================] - 0s 6ms/step - loss: 0.2221 - accuracy: 0.9344 - val_loss: 0.2211 - val_accuracy: 0.9309\n",
            "Epoch 26/100\n",
            "12/12 [==============================] - 0s 6ms/step - loss: 0.2168 - accuracy: 0.9370 - val_loss: 0.2165 - val_accuracy: 0.9309\n",
            "Epoch 27/100\n",
            "12/12 [==============================] - 0s 6ms/step - loss: 0.2118 - accuracy: 0.9396 - val_loss: 0.2122 - val_accuracy: 0.9309\n",
            "Epoch 28/100\n",
            "12/12 [==============================] - 0s 6ms/step - loss: 0.2069 - accuracy: 0.9396 - val_loss: 0.2080 - val_accuracy: 0.9309\n",
            "Epoch 29/100\n",
            "12/12 [==============================] - 0s 7ms/step - loss: 0.2025 - accuracy: 0.9423 - val_loss: 0.2040 - val_accuracy: 0.9309\n",
            "Epoch 30/100\n",
            "12/12 [==============================] - 0s 6ms/step - loss: 0.1979 - accuracy: 0.9423 - val_loss: 0.2004 - val_accuracy: 0.9255\n",
            "Epoch 31/100\n",
            "12/12 [==============================] - 0s 7ms/step - loss: 0.1946 - accuracy: 0.9423 - val_loss: 0.1968 - val_accuracy: 0.9255\n",
            "Epoch 32/100\n",
            "12/12 [==============================] - 0s 6ms/step - loss: 0.1905 - accuracy: 0.9423 - val_loss: 0.1935 - val_accuracy: 0.9202\n",
            "Epoch 33/100\n",
            "12/12 [==============================] - 0s 6ms/step - loss: 0.1872 - accuracy: 0.9423 - val_loss: 0.1903 - val_accuracy: 0.9202\n",
            "Epoch 34/100\n",
            "12/12 [==============================] - 0s 7ms/step - loss: 0.1834 - accuracy: 0.9423 - val_loss: 0.1873 - val_accuracy: 0.9202\n",
            "Epoch 35/100\n",
            "12/12 [==============================] - 0s 6ms/step - loss: 0.1802 - accuracy: 0.9423 - val_loss: 0.1844 - val_accuracy: 0.9255\n",
            "Epoch 36/100\n",
            "12/12 [==============================] - 0s 6ms/step - loss: 0.1774 - accuracy: 0.9423 - val_loss: 0.1817 - val_accuracy: 0.9309\n",
            "Epoch 37/100\n",
            "12/12 [==============================] - 0s 6ms/step - loss: 0.1739 - accuracy: 0.9423 - val_loss: 0.1790 - val_accuracy: 0.9309\n",
            "Epoch 38/100\n",
            "12/12 [==============================] - 0s 6ms/step - loss: 0.1714 - accuracy: 0.9423 - val_loss: 0.1765 - val_accuracy: 0.9309\n",
            "Epoch 39/100\n",
            "12/12 [==============================] - 0s 6ms/step - loss: 0.1683 - accuracy: 0.9423 - val_loss: 0.1742 - val_accuracy: 0.9309\n",
            "Epoch 40/100\n",
            "12/12 [==============================] - 0s 6ms/step - loss: 0.1659 - accuracy: 0.9423 - val_loss: 0.1718 - val_accuracy: 0.9362\n",
            "Epoch 41/100\n",
            "12/12 [==============================] - 0s 6ms/step - loss: 0.1636 - accuracy: 0.9423 - val_loss: 0.1696 - val_accuracy: 0.9415\n",
            "Epoch 42/100\n",
            "12/12 [==============================] - 0s 6ms/step - loss: 0.1609 - accuracy: 0.9475 - val_loss: 0.1676 - val_accuracy: 0.9415\n",
            "Epoch 43/100\n",
            "12/12 [==============================] - 0s 6ms/step - loss: 0.1587 - accuracy: 0.9475 - val_loss: 0.1655 - val_accuracy: 0.9468\n",
            "Epoch 44/100\n",
            "12/12 [==============================] - 0s 6ms/step - loss: 0.1573 - accuracy: 0.9475 - val_loss: 0.1635 - val_accuracy: 0.9468\n",
            "Epoch 45/100\n",
            "12/12 [==============================] - 0s 6ms/step - loss: 0.1541 - accuracy: 0.9475 - val_loss: 0.1616 - val_accuracy: 0.9468\n",
            "Epoch 46/100\n",
            "12/12 [==============================] - 0s 6ms/step - loss: 0.1524 - accuracy: 0.9475 - val_loss: 0.1599 - val_accuracy: 0.9468\n",
            "Epoch 47/100\n",
            "12/12 [==============================] - 0s 7ms/step - loss: 0.1504 - accuracy: 0.9475 - val_loss: 0.1579 - val_accuracy: 0.9468\n",
            "Epoch 48/100\n",
            "12/12 [==============================] - 0s 6ms/step - loss: 0.1492 - accuracy: 0.9475 - val_loss: 0.1564 - val_accuracy: 0.9468\n",
            "Epoch 49/100\n",
            "12/12 [==============================] - 0s 6ms/step - loss: 0.1467 - accuracy: 0.9528 - val_loss: 0.1548 - val_accuracy: 0.9521\n",
            "Epoch 50/100\n",
            "12/12 [==============================] - 0s 6ms/step - loss: 0.1450 - accuracy: 0.9528 - val_loss: 0.1532 - val_accuracy: 0.9521\n",
            "Epoch 51/100\n",
            "12/12 [==============================] - 0s 6ms/step - loss: 0.1429 - accuracy: 0.9528 - val_loss: 0.1517 - val_accuracy: 0.9521\n",
            "Epoch 52/100\n",
            "12/12 [==============================] - 0s 6ms/step - loss: 0.1417 - accuracy: 0.9528 - val_loss: 0.1502 - val_accuracy: 0.9521\n",
            "Epoch 53/100\n",
            "12/12 [==============================] - 0s 6ms/step - loss: 0.1397 - accuracy: 0.9554 - val_loss: 0.1489 - val_accuracy: 0.9521\n",
            "Epoch 54/100\n",
            "12/12 [==============================] - 0s 6ms/step - loss: 0.1379 - accuracy: 0.9580 - val_loss: 0.1474 - val_accuracy: 0.9521\n",
            "Epoch 55/100\n",
            "12/12 [==============================] - 0s 7ms/step - loss: 0.1366 - accuracy: 0.9580 - val_loss: 0.1461 - val_accuracy: 0.9521\n",
            "Epoch 56/100\n",
            "12/12 [==============================] - 0s 6ms/step - loss: 0.1354 - accuracy: 0.9580 - val_loss: 0.1448 - val_accuracy: 0.9521\n",
            "Epoch 57/100\n",
            "12/12 [==============================] - 0s 6ms/step - loss: 0.1346 - accuracy: 0.9659 - val_loss: 0.1435 - val_accuracy: 0.9521\n",
            "Epoch 58/100\n",
            "12/12 [==============================] - 0s 6ms/step - loss: 0.1324 - accuracy: 0.9659 - val_loss: 0.1424 - val_accuracy: 0.9521\n",
            "Epoch 59/100\n",
            "12/12 [==============================] - 0s 6ms/step - loss: 0.1306 - accuracy: 0.9659 - val_loss: 0.1412 - val_accuracy: 0.9521\n",
            "Epoch 60/100\n",
            "12/12 [==============================] - 0s 6ms/step - loss: 0.1298 - accuracy: 0.9659 - val_loss: 0.1400 - val_accuracy: 0.9521\n",
            "Epoch 61/100\n",
            "12/12 [==============================] - 0s 6ms/step - loss: 0.1280 - accuracy: 0.9659 - val_loss: 0.1390 - val_accuracy: 0.9521\n",
            "Epoch 62/100\n",
            "12/12 [==============================] - 0s 6ms/step - loss: 0.1277 - accuracy: 0.9659 - val_loss: 0.1380 - val_accuracy: 0.9521\n",
            "Epoch 63/100\n",
            "12/12 [==============================] - 0s 6ms/step - loss: 0.1265 - accuracy: 0.9685 - val_loss: 0.1370 - val_accuracy: 0.9521\n",
            "Epoch 64/100\n",
            "12/12 [==============================] - 0s 6ms/step - loss: 0.1248 - accuracy: 0.9685 - val_loss: 0.1361 - val_accuracy: 0.9521\n",
            "Epoch 65/100\n",
            "12/12 [==============================] - 0s 6ms/step - loss: 0.1240 - accuracy: 0.9685 - val_loss: 0.1350 - val_accuracy: 0.9521\n",
            "Epoch 66/100\n",
            "12/12 [==============================] - 0s 6ms/step - loss: 0.1225 - accuracy: 0.9711 - val_loss: 0.1341 - val_accuracy: 0.9521\n",
            "Epoch 67/100\n",
            "12/12 [==============================] - 0s 6ms/step - loss: 0.1215 - accuracy: 0.9711 - val_loss: 0.1332 - val_accuracy: 0.9521\n",
            "Epoch 68/100\n",
            "12/12 [==============================] - 0s 6ms/step - loss: 0.1202 - accuracy: 0.9711 - val_loss: 0.1323 - val_accuracy: 0.9521\n",
            "Epoch 69/100\n",
            "12/12 [==============================] - 0s 6ms/step - loss: 0.1190 - accuracy: 0.9711 - val_loss: 0.1314 - val_accuracy: 0.9521\n",
            "Epoch 70/100\n",
            "12/12 [==============================] - 0s 6ms/step - loss: 0.1179 - accuracy: 0.9711 - val_loss: 0.1306 - val_accuracy: 0.9521\n",
            "Epoch 71/100\n",
            "12/12 [==============================] - 0s 6ms/step - loss: 0.1172 - accuracy: 0.9711 - val_loss: 0.1298 - val_accuracy: 0.9521\n",
            "Epoch 72/100\n",
            "12/12 [==============================] - 0s 7ms/step - loss: 0.1161 - accuracy: 0.9711 - val_loss: 0.1291 - val_accuracy: 0.9521\n",
            "Epoch 73/100\n",
            "12/12 [==============================] - 0s 6ms/step - loss: 0.1156 - accuracy: 0.9711 - val_loss: 0.1281 - val_accuracy: 0.9521\n",
            "Epoch 74/100\n",
            "12/12 [==============================] - 0s 6ms/step - loss: 0.1140 - accuracy: 0.9738 - val_loss: 0.1274 - val_accuracy: 0.9521\n",
            "Epoch 75/100\n",
            "12/12 [==============================] - 0s 6ms/step - loss: 0.1135 - accuracy: 0.9738 - val_loss: 0.1266 - val_accuracy: 0.9521\n",
            "Epoch 76/100\n",
            "12/12 [==============================] - 0s 6ms/step - loss: 0.1124 - accuracy: 0.9764 - val_loss: 0.1260 - val_accuracy: 0.9468\n",
            "Epoch 77/100\n",
            "12/12 [==============================] - 0s 6ms/step - loss: 0.1113 - accuracy: 0.9764 - val_loss: 0.1253 - val_accuracy: 0.9468\n",
            "Epoch 78/100\n",
            "12/12 [==============================] - 0s 6ms/step - loss: 0.1102 - accuracy: 0.9764 - val_loss: 0.1246 - val_accuracy: 0.9468\n",
            "Epoch 79/100\n",
            "12/12 [==============================] - 0s 6ms/step - loss: 0.1102 - accuracy: 0.9764 - val_loss: 0.1239 - val_accuracy: 0.9468\n",
            "Epoch 80/100\n",
            "12/12 [==============================] - 0s 6ms/step - loss: 0.1091 - accuracy: 0.9764 - val_loss: 0.1234 - val_accuracy: 0.9521\n",
            "Epoch 81/100\n",
            "12/12 [==============================] - 0s 7ms/step - loss: 0.1081 - accuracy: 0.9764 - val_loss: 0.1228 - val_accuracy: 0.9521\n",
            "Epoch 82/100\n",
            "12/12 [==============================] - 0s 6ms/step - loss: 0.1075 - accuracy: 0.9764 - val_loss: 0.1221 - val_accuracy: 0.9521\n",
            "Epoch 83/100\n",
            "12/12 [==============================] - 0s 6ms/step - loss: 0.1063 - accuracy: 0.9764 - val_loss: 0.1215 - val_accuracy: 0.9521\n",
            "Epoch 84/100\n",
            "12/12 [==============================] - 0s 6ms/step - loss: 0.1056 - accuracy: 0.9764 - val_loss: 0.1208 - val_accuracy: 0.9521\n",
            "Epoch 85/100\n",
            "12/12 [==============================] - 0s 7ms/step - loss: 0.1049 - accuracy: 0.9764 - val_loss: 0.1202 - val_accuracy: 0.9521\n",
            "Epoch 86/100\n",
            "12/12 [==============================] - 0s 7ms/step - loss: 0.1042 - accuracy: 0.9764 - val_loss: 0.1197 - val_accuracy: 0.9521\n",
            "Epoch 87/100\n",
            "12/12 [==============================] - 0s 6ms/step - loss: 0.1036 - accuracy: 0.9764 - val_loss: 0.1191 - val_accuracy: 0.9521\n",
            "Epoch 88/100\n",
            "12/12 [==============================] - 0s 6ms/step - loss: 0.1033 - accuracy: 0.9764 - val_loss: 0.1186 - val_accuracy: 0.9521\n",
            "Epoch 89/100\n",
            "12/12 [==============================] - 0s 6ms/step - loss: 0.1033 - accuracy: 0.9790 - val_loss: 0.1180 - val_accuracy: 0.9521\n",
            "Epoch 90/100\n",
            "12/12 [==============================] - 0s 6ms/step - loss: 0.1020 - accuracy: 0.9790 - val_loss: 0.1175 - val_accuracy: 0.9521\n",
            "Epoch 91/100\n",
            "12/12 [==============================] - 0s 6ms/step - loss: 0.1010 - accuracy: 0.9790 - val_loss: 0.1172 - val_accuracy: 0.9521\n",
            "Epoch 92/100\n",
            "12/12 [==============================] - 0s 6ms/step - loss: 0.1003 - accuracy: 0.9790 - val_loss: 0.1166 - val_accuracy: 0.9521\n",
            "Epoch 93/100\n",
            "12/12 [==============================] - 0s 6ms/step - loss: 0.1000 - accuracy: 0.9790 - val_loss: 0.1162 - val_accuracy: 0.9521\n",
            "Epoch 94/100\n",
            "12/12 [==============================] - 0s 7ms/step - loss: 0.0989 - accuracy: 0.9790 - val_loss: 0.1157 - val_accuracy: 0.9574\n",
            "Epoch 95/100\n",
            "12/12 [==============================] - 0s 7ms/step - loss: 0.0987 - accuracy: 0.9790 - val_loss: 0.1153 - val_accuracy: 0.9574\n",
            "Epoch 96/100\n",
            "12/12 [==============================] - 0s 6ms/step - loss: 0.0977 - accuracy: 0.9790 - val_loss: 0.1147 - val_accuracy: 0.9574\n",
            "Epoch 97/100\n",
            "12/12 [==============================] - 0s 6ms/step - loss: 0.0973 - accuracy: 0.9790 - val_loss: 0.1142 - val_accuracy: 0.9574\n",
            "Epoch 98/100\n",
            "12/12 [==============================] - 0s 6ms/step - loss: 0.0966 - accuracy: 0.9790 - val_loss: 0.1140 - val_accuracy: 0.9574\n",
            "Epoch 99/100\n",
            "12/12 [==============================] - 0s 6ms/step - loss: 0.0962 - accuracy: 0.9790 - val_loss: 0.1136 - val_accuracy: 0.9574\n",
            "Epoch 100/100\n",
            "12/12 [==============================] - 0s 6ms/step - loss: 0.0953 - accuracy: 0.9790 - val_loss: 0.1130 - val_accuracy: 0.9574\n"
          ],
          "name": "stdout"
        }
      ]
    },
    {
      "cell_type": "code",
      "metadata": {
        "id": "CNVks20xAL1Q",
        "colab_type": "code",
        "colab": {
          "base_uri": "https://localhost:8080/",
          "height": 85
        },
        "outputId": "3f8ec678-7007-407d-9ab7-aafde0991436"
      },
      "source": [
        "#evaluate the model\n",
        "print(\"Trian_Score:\",model.evaluate(X_train,Y_train))\n",
        "print(\"Test_score:\",model.evaluate(X_test,Y_test))"
      ],
      "execution_count": 39,
      "outputs": [
        {
          "output_type": "stream",
          "text": [
            "12/12 [==============================] - 0s 2ms/step - loss: 0.0951 - accuracy: 0.9790\n",
            "Trian_Score: [0.09513556957244873, 0.9790025949478149]\n",
            "6/6 [==============================] - 0s 2ms/step - loss: 0.1130 - accuracy: 0.9574\n",
            "Test_score: [0.11304876208305359, 0.957446813583374]\n"
          ],
          "name": "stdout"
        }
      ]
    },
    {
      "cell_type": "code",
      "metadata": {
        "id": "kQjryaJXArGW",
        "colab_type": "code",
        "colab": {
          "base_uri": "https://localhost:8080/",
          "height": 282
        },
        "outputId": "274b3f4c-db14-4087-cba4-83df7bbfade2"
      },
      "source": [
        "#Plot the object return by model.fit\n",
        "import matplotlib.pyplot as plt\n",
        "plt.plot(r.history['loss'],label = 'loss')\n",
        "plt.plot(r.history['val_loss'],label = 'Val loss')\n",
        "plt.legend()"
      ],
      "execution_count": 40,
      "outputs": [
        {
          "output_type": "execute_result",
          "data": {
            "text/plain": [
              "<matplotlib.legend.Legend at 0x7f1c680ffbe0>"
            ]
          },
          "metadata": {
            "tags": []
          },
          "execution_count": 40
        },
        {
          "output_type": "display_data",
          "data": {
            "image/png": "[encoded data removed]",
            "text/plain": [
              "<Figure size 432x288 with 1 Axes>"
            ]
          },
          "metadata": {
            "tags": [],
            "needs_background": "light"
          }
        }
      ]
    },
    {
      "cell_type": "code",
      "metadata": {
        "id": "j8Kxn6usBV8U",
        "colab_type": "code",
        "colab": {
          "base_uri": "https://localhost:8080/",
          "height": 282
        },
        "outputId": "ce4cfbf9-7c8e-4b34-853d-6c27440239d5"
      },
      "source": [
        "plt.plot(r.history['accuracy'],label = 'accurcay')\n",
        "plt.plot(r.history['val_accuracy'],label = 'val_accuracy')\n",
        "plt.legend()"
      ],
      "execution_count": 41,
      "outputs": [
        {
          "output_type": "execute_result",
          "data": {
            "text/plain": [
              "<matplotlib.legend.Legend at 0x7f1c687a4550>"
            ]
          },
          "metadata": {
            "tags": []
          },
          "execution_count": 41
        },
        {
          "output_type": "display_data",
          "data": {
            "image/png": "[encoded data removed]",
            "text/plain": [
              "<Figure size 432x288 with 1 Axes>"
            ]
          },
          "metadata": {
            "tags": [],
            "needs_background": "light"
          }
        }
      ]
    },
    {
      "cell_type": "code",
      "metadata": {
        "id": "-rNyAtu4B9sf",
        "colab_type": "code",
        "colab": {}
      },
      "source": [
        ""
      ],
      "execution_count": 0,
      "outputs": []
    }
  ]
}