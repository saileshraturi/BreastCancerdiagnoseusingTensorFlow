{
  "nbformat": 4,
  "nbformat_minor": 0,
  "metadata": {
    "colab": {
      "name": "BreastCancerDiagnoseusingTensorFlow.ipynb",
      "provenance": [],
      "collapsed_sections": [],
      "authorship_tag": "ABX9TyOuYADZy3g8P+pz1vkovUXt",
      "include_colab_link": true
    },
    "kernelspec": {
      "name": "python3",
      "display_name": "Python 3"
    },
    "accelerator": "GPU"
  },
  "cells": [
    {
      "cell_type": "markdown",
      "metadata": {
        "id": "view-in-github",
        "colab_type": "text"
      },
      "source": [
        "<a href=\"https://colab.research.google.com/github/saileshraturi/BreastCancerdiagnoseusingTensorFlow/blob/master/BreastCancerDiagnoseusingTensorFlow.ipynb\" target=\"_parent\"><img src=\"https://colab.research.google.com/assets/colab-badge.svg\" alt=\"Open In Colab\"/></a>"
      ]
    },
    {
      "cell_type": "code",
      "metadata": {
        "id": "UyCNGAYNymZc",
        "colab_type": "code",
        "outputId": "6f986240-dd7b-4b89-c869-c73183780cff",
        "colab": {
          "base_uri": "https://localhost:8080/",
          "height": 34
        }
      },
      "source": [
        "import tensorflow as tf\n",
        "print(tf.__version__)"
      ],
      "execution_count": 2,
      "outputs": [
        {
          "output_type": "stream",
          "text": [
            "2.2.0-rc3\n"
          ],
          "name": "stdout"
        }
      ]
    },
    {
      "cell_type": "code",
      "metadata": {
        "id": "KphiJshC0apQ",
        "colab_type": "code",
        "colab": {}
      },
      "source": [
        "#load dataset\n",
        "from sklearn.datasets import load_breast_cancer"
      ],
      "execution_count": 0,
      "outputs": []
    },
    {
      "cell_type": "code",
      "metadata": {
        "id": "g9_UKuMc0vzW",
        "colab_type": "code",
        "colab": {}
      },
      "source": [
        "data = load_breast_cancer()"
      ],
      "execution_count": 0,
      "outputs": []
    },
    {
      "cell_type": "code",
      "metadata": {
        "id": "pv0w2a0j04mN",
        "colab_type": "code",
        "outputId": "7f321053-71bf-480a-f073-fff585d75f62",
        "colab": {
          "base_uri": "https://localhost:8080/",
          "height": 34
        }
      },
      "source": [
        "type(data)"
      ],
      "execution_count": 5,
      "outputs": [
        {
          "output_type": "execute_result",
          "data": {
            "text/plain": [
              "sklearn.utils.Bunch"
            ]
          },
          "metadata": {
            "tags": []
          },
          "execution_count": 5
        }
      ]
    },
    {
      "cell_type": "code",
      "metadata": {
        "id": "82GjKUSY1Db9",
        "colab_type": "code",
        "outputId": "69539e59-ff6a-43db-c476-03d6879c7614",
        "colab": {
          "base_uri": "https://localhost:8080/",
          "height": 34
        }
      },
      "source": [
        "data.keys()"
      ],
      "execution_count": 6,
      "outputs": [
        {
          "output_type": "execute_result",
          "data": {
            "text/plain": [
              "dict_keys(['data', 'target', 'target_names', 'DESCR', 'feature_names', 'filename'])"
            ]
          },
          "metadata": {
            "tags": []
          },
          "execution_count": 6
        }
      ]
    },
    {
      "cell_type": "code",
      "metadata": {
        "id": "f_w2H8uY1K9T",
        "colab_type": "code",
        "outputId": "893bd701-13df-4eec-da2b-209e292b5752",
        "colab": {
          "base_uri": "https://localhost:8080/",
          "height": 34
        }
      },
      "source": [
        "data.data.shape"
      ],
      "execution_count": 7,
      "outputs": [
        {
          "output_type": "execute_result",
          "data": {
            "text/plain": [
              "(569, 30)"
            ]
          },
          "metadata": {
            "tags": []
          },
          "execution_count": 7
        }
      ]
    },
    {
      "cell_type": "code",
      "metadata": {
        "id": "r4oyB23B1pzJ",
        "colab_type": "code",
        "outputId": "1e4c905d-1bee-4b93-9870-7c066423136e",
        "colab": {
          "base_uri": "https://localhost:8080/",
          "height": 34
        }
      },
      "source": [
        "data.target_names"
      ],
      "execution_count": 8,
      "outputs": [
        {
          "output_type": "execute_result",
          "data": {
            "text/plain": [
              "array(['malignant', 'benign'], dtype='<U9')"
            ]
          },
          "metadata": {
            "tags": []
          },
          "execution_count": 8
        }
      ]
    },
    {
      "cell_type": "code",
      "metadata": {
        "id": "cLCC6yi21uGO",
        "colab_type": "code",
        "outputId": "f7f8c46f-0e9d-4200-9821-30aad51947d0",
        "colab": {
          "base_uri": "https://localhost:8080/",
          "height": 34
        }
      },
      "source": [
        "data.target.shape"
      ],
      "execution_count": 9,
      "outputs": [
        {
          "output_type": "execute_result",
          "data": {
            "text/plain": [
              "(569,)"
            ]
          },
          "metadata": {
            "tags": []
          },
          "execution_count": 9
        }
      ]
    },
    {
      "cell_type": "code",
      "metadata": {
        "id": "AtJBV0Wy14cm",
        "colab_type": "code",
        "outputId": "365e5ec9-448c-4bd8-85de-08ec32e367cd",
        "colab": {
          "base_uri": "https://localhost:8080/",
          "height": 187
        }
      },
      "source": [
        "data.feature_names"
      ],
      "execution_count": 10,
      "outputs": [
        {
          "output_type": "execute_result",
          "data": {
            "text/plain": [
              "array(['mean radius', 'mean texture', 'mean perimeter', 'mean area',\n",
              "       'mean smoothness', 'mean compactness', 'mean concavity',\n",
              "       'mean concave points', 'mean symmetry', 'mean fractal dimension',\n",
              "       'radius error', 'texture error', 'perimeter error', 'area error',\n",
              "       'smoothness error', 'compactness error', 'concavity error',\n",
              "       'concave points error', 'symmetry error',\n",
              "       'fractal dimension error', 'worst radius', 'worst texture',\n",
              "       'worst perimeter', 'worst area', 'worst smoothness',\n",
              "       'worst compactness', 'worst concavity', 'worst concave points',\n",
              "       'worst symmetry', 'worst fractal dimension'], dtype='<U23')"
            ]
          },
          "metadata": {
            "tags": []
          },
          "execution_count": 10
        }
      ]
    },
    {
      "cell_type": "code",
      "metadata": {
        "id": "Fx0PgIgj2J1b",
        "colab_type": "code",
        "colab": {}
      },
      "source": [
        "#Train Test split\n",
        "from sklearn.model_selection import train_test_split"
      ],
      "execution_count": 0,
      "outputs": []
    },
    {
      "cell_type": "code",
      "metadata": {
        "id": "-KGySuV95Ciz",
        "colab_type": "code",
        "colab": {}
      },
      "source": [
        "X_train,X_test,Y_train,Y_test = train_test_split(data.data,data.target,test_size = 0.33)"
      ],
      "execution_count": 0,
      "outputs": []
    },
    {
      "cell_type": "code",
      "metadata": {
        "id": "lPHVoY6m5gpz",
        "colab_type": "code",
        "colab": {}
      },
      "source": [
        "N,D = X_train.shape"
      ],
      "execution_count": 0,
      "outputs": []
    },
    {
      "cell_type": "code",
      "metadata": {
        "id": "xv_emZer5kj7",
        "colab_type": "code",
        "outputId": "1a0737ff-74f3-4bcb-b37e-a928b28ef481",
        "colab": {
          "base_uri": "https://localhost:8080/",
          "height": 34
        }
      },
      "source": [
        "Y_train.shape"
      ],
      "execution_count": 14,
      "outputs": [
        {
          "output_type": "execute_result",
          "data": {
            "text/plain": [
              "(381,)"
            ]
          },
          "metadata": {
            "tags": []
          },
          "execution_count": 14
        }
      ]
    },
    {
      "cell_type": "code",
      "metadata": {
        "id": "pfz-HpDQ5n52",
        "colab_type": "code",
        "colab": {}
      },
      "source": [
        "# Scaling of Data\n",
        "from sklearn.preprocessing import StandardScaler"
      ],
      "execution_count": 0,
      "outputs": []
    },
    {
      "cell_type": "code",
      "metadata": {
        "id": "sZYvq86R70qu",
        "colab_type": "code",
        "colab": {}
      },
      "source": [
        "scaler = StandardScaler()"
      ],
      "execution_count": 0,
      "outputs": []
    },
    {
      "cell_type": "code",
      "metadata": {
        "id": "_it3E0mF9CWC",
        "colab_type": "code",
        "colab": {}
      },
      "source": [
        "X_train = scaler.fit_transform(X_train)\n",
        "X_test = scaler.transform(X_test)"
      ],
      "execution_count": 0,
      "outputs": []
    },
    {
      "cell_type": "code",
      "metadata": {
        "id": "e6uNgRg29QGO",
        "colab_type": "code",
        "colab": {}
      },
      "source": [
        "#Build the model\n",
        "model  = tf.keras.models.Sequential([\n",
        "    tf.keras.layers.Input(shape=(D,)),\n",
        "    tf.keras.layers.Dense(1,activation='sigmoid')\n",
        "])"
      ],
      "execution_count": 0,
      "outputs": []
    },
    {
      "cell_type": "code",
      "metadata": {
        "id": "1Vq146dP-s7R",
        "colab_type": "code",
        "colab": {}
      },
      "source": [
        "#Another way of modelling\n",
        "# model = tf.keras.model.Sequential()\n",
        "#model.add(tf.keras.layes.Dense(1,input_Shape =(D,),activation = 'sigmoid'))"
      ],
      "execution_count": 0,
      "outputs": []
    },
    {
      "cell_type": "code",
      "metadata": {
        "id": "Sd5l90Pn_TV6",
        "colab_type": "code",
        "colab": {}
      },
      "source": [
        "model.compile(optimizer='adam',\n",
        "              loss='binary_crossentropy',\n",
        "              metrics = ['accuracy'])"
      ],
      "execution_count": 0,
      "outputs": []
    },
    {
      "cell_type": "code",
      "metadata": {
        "id": "7KmtSTeP_t1F",
        "colab_type": "code",
        "outputId": "e1a335d6-55af-4c33-9903-47b832946991",
        "colab": {
          "base_uri": "https://localhost:8080/",
          "height": 1000
        }
      },
      "source": [
        "#Train the model\n",
        "r = model.fit(X_train,Y_train,validation_data=(X_test,Y_test),epochs=100)"
      ],
      "execution_count": 21,
      "outputs": [
        {
          "output_type": "stream",
          "text": [
            "Epoch 1/100\n",
            "12/12 [==============================] - 0s 15ms/step - loss: 0.4417 - accuracy: 0.8793 - val_loss: 0.4372 - val_accuracy: 0.8723\n",
            "Epoch 2/100\n",
            "12/12 [==============================] - 0s 5ms/step - loss: 0.3997 - accuracy: 0.8950 - val_loss: 0.4002 - val_accuracy: 0.8830\n",
            "Epoch 3/100\n",
            "12/12 [==============================] - 0s 4ms/step - loss: 0.3659 - accuracy: 0.9081 - val_loss: 0.3690 - val_accuracy: 0.8989\n",
            "Epoch 4/100\n",
            "12/12 [==============================] - 0s 5ms/step - loss: 0.3375 - accuracy: 0.9186 - val_loss: 0.3430 - val_accuracy: 0.9043\n",
            "Epoch 5/100\n",
            "12/12 [==============================] - 0s 5ms/step - loss: 0.3136 - accuracy: 0.9318 - val_loss: 0.3215 - val_accuracy: 0.9043\n",
            "Epoch 6/100\n",
            "12/12 [==============================] - 0s 4ms/step - loss: 0.2929 - accuracy: 0.9318 - val_loss: 0.3033 - val_accuracy: 0.9149\n",
            "Epoch 7/100\n",
            "12/12 [==============================] - 0s 4ms/step - loss: 0.2765 - accuracy: 0.9396 - val_loss: 0.2877 - val_accuracy: 0.9149\n",
            "Epoch 8/100\n",
            "12/12 [==============================] - 0s 5ms/step - loss: 0.2619 - accuracy: 0.9449 - val_loss: 0.2740 - val_accuracy: 0.9309\n",
            "Epoch 9/100\n",
            "12/12 [==============================] - 0s 5ms/step - loss: 0.2479 - accuracy: 0.9528 - val_loss: 0.2618 - val_accuracy: 0.9362\n",
            "Epoch 10/100\n",
            "12/12 [==============================] - 0s 4ms/step - loss: 0.2365 - accuracy: 0.9580 - val_loss: 0.2511 - val_accuracy: 0.9362\n",
            "Epoch 11/100\n",
            "12/12 [==============================] - 0s 5ms/step - loss: 0.2269 - accuracy: 0.9606 - val_loss: 0.2419 - val_accuracy: 0.9362\n",
            "Epoch 12/100\n",
            "12/12 [==============================] - 0s 4ms/step - loss: 0.2172 - accuracy: 0.9606 - val_loss: 0.2336 - val_accuracy: 0.9415\n",
            "Epoch 13/100\n",
            "12/12 [==============================] - 0s 4ms/step - loss: 0.2088 - accuracy: 0.9606 - val_loss: 0.2260 - val_accuracy: 0.9415\n",
            "Epoch 14/100\n",
            "12/12 [==============================] - 0s 4ms/step - loss: 0.2016 - accuracy: 0.9606 - val_loss: 0.2190 - val_accuracy: 0.9415\n",
            "Epoch 15/100\n",
            "12/12 [==============================] - 0s 4ms/step - loss: 0.1942 - accuracy: 0.9606 - val_loss: 0.2130 - val_accuracy: 0.9415\n",
            "Epoch 16/100\n",
            "12/12 [==============================] - 0s 4ms/step - loss: 0.1878 - accuracy: 0.9633 - val_loss: 0.2072 - val_accuracy: 0.9415\n",
            "Epoch 17/100\n",
            "12/12 [==============================] - 0s 4ms/step - loss: 0.1822 - accuracy: 0.9633 - val_loss: 0.2019 - val_accuracy: 0.9415\n",
            "Epoch 18/100\n",
            "12/12 [==============================] - 0s 5ms/step - loss: 0.1762 - accuracy: 0.9633 - val_loss: 0.1970 - val_accuracy: 0.9415\n",
            "Epoch 19/100\n",
            "12/12 [==============================] - 0s 4ms/step - loss: 0.1715 - accuracy: 0.9633 - val_loss: 0.1925 - val_accuracy: 0.9415\n",
            "Epoch 20/100\n",
            "12/12 [==============================] - 0s 4ms/step - loss: 0.1668 - accuracy: 0.9633 - val_loss: 0.1884 - val_accuracy: 0.9415\n",
            "Epoch 21/100\n",
            "12/12 [==============================] - 0s 5ms/step - loss: 0.1621 - accuracy: 0.9685 - val_loss: 0.1846 - val_accuracy: 0.9415\n",
            "Epoch 22/100\n",
            "12/12 [==============================] - 0s 4ms/step - loss: 0.1585 - accuracy: 0.9685 - val_loss: 0.1811 - val_accuracy: 0.9415\n",
            "Epoch 23/100\n",
            "12/12 [==============================] - 0s 4ms/step - loss: 0.1553 - accuracy: 0.9685 - val_loss: 0.1779 - val_accuracy: 0.9468\n",
            "Epoch 24/100\n",
            "12/12 [==============================] - 0s 4ms/step - loss: 0.1510 - accuracy: 0.9685 - val_loss: 0.1747 - val_accuracy: 0.9468\n",
            "Epoch 25/100\n",
            "12/12 [==============================] - 0s 5ms/step - loss: 0.1479 - accuracy: 0.9685 - val_loss: 0.1717 - val_accuracy: 0.9468\n",
            "Epoch 26/100\n",
            "12/12 [==============================] - 0s 4ms/step - loss: 0.1449 - accuracy: 0.9685 - val_loss: 0.1691 - val_accuracy: 0.9468\n",
            "Epoch 27/100\n",
            "12/12 [==============================] - 0s 4ms/step - loss: 0.1413 - accuracy: 0.9685 - val_loss: 0.1665 - val_accuracy: 0.9468\n",
            "Epoch 28/100\n",
            "12/12 [==============================] - 0s 5ms/step - loss: 0.1386 - accuracy: 0.9685 - val_loss: 0.1641 - val_accuracy: 0.9468\n",
            "Epoch 29/100\n",
            "12/12 [==============================] - 0s 4ms/step - loss: 0.1356 - accuracy: 0.9685 - val_loss: 0.1619 - val_accuracy: 0.9468\n",
            "Epoch 30/100\n",
            "12/12 [==============================] - 0s 4ms/step - loss: 0.1334 - accuracy: 0.9685 - val_loss: 0.1597 - val_accuracy: 0.9521\n",
            "Epoch 31/100\n",
            "12/12 [==============================] - 0s 4ms/step - loss: 0.1309 - accuracy: 0.9711 - val_loss: 0.1576 - val_accuracy: 0.9521\n",
            "Epoch 32/100\n",
            "12/12 [==============================] - 0s 5ms/step - loss: 0.1289 - accuracy: 0.9711 - val_loss: 0.1557 - val_accuracy: 0.9521\n",
            "Epoch 33/100\n",
            "12/12 [==============================] - 0s 4ms/step - loss: 0.1275 - accuracy: 0.9711 - val_loss: 0.1539 - val_accuracy: 0.9521\n",
            "Epoch 34/100\n",
            "12/12 [==============================] - 0s 5ms/step - loss: 0.1243 - accuracy: 0.9711 - val_loss: 0.1522 - val_accuracy: 0.9521\n",
            "Epoch 35/100\n",
            "12/12 [==============================] - 0s 5ms/step - loss: 0.1231 - accuracy: 0.9711 - val_loss: 0.1505 - val_accuracy: 0.9521\n",
            "Epoch 36/100\n",
            "12/12 [==============================] - 0s 4ms/step - loss: 0.1212 - accuracy: 0.9711 - val_loss: 0.1489 - val_accuracy: 0.9574\n",
            "Epoch 37/100\n",
            "12/12 [==============================] - 0s 5ms/step - loss: 0.1186 - accuracy: 0.9711 - val_loss: 0.1474 - val_accuracy: 0.9574\n",
            "Epoch 38/100\n",
            "12/12 [==============================] - 0s 5ms/step - loss: 0.1175 - accuracy: 0.9711 - val_loss: 0.1461 - val_accuracy: 0.9574\n",
            "Epoch 39/100\n",
            "12/12 [==============================] - 0s 4ms/step - loss: 0.1154 - accuracy: 0.9711 - val_loss: 0.1447 - val_accuracy: 0.9628\n",
            "Epoch 40/100\n",
            "12/12 [==============================] - 0s 4ms/step - loss: 0.1137 - accuracy: 0.9738 - val_loss: 0.1433 - val_accuracy: 0.9628\n",
            "Epoch 41/100\n",
            "12/12 [==============================] - 0s 4ms/step - loss: 0.1129 - accuracy: 0.9764 - val_loss: 0.1422 - val_accuracy: 0.9628\n",
            "Epoch 42/100\n",
            "12/12 [==============================] - 0s 6ms/step - loss: 0.1106 - accuracy: 0.9764 - val_loss: 0.1410 - val_accuracy: 0.9628\n",
            "Epoch 43/100\n",
            "12/12 [==============================] - 0s 5ms/step - loss: 0.1094 - accuracy: 0.9764 - val_loss: 0.1399 - val_accuracy: 0.9681\n",
            "Epoch 44/100\n",
            "12/12 [==============================] - 0s 4ms/step - loss: 0.1082 - accuracy: 0.9764 - val_loss: 0.1388 - val_accuracy: 0.9681\n",
            "Epoch 45/100\n",
            "12/12 [==============================] - 0s 4ms/step - loss: 0.1066 - accuracy: 0.9764 - val_loss: 0.1378 - val_accuracy: 0.9681\n",
            "Epoch 46/100\n",
            "12/12 [==============================] - 0s 5ms/step - loss: 0.1053 - accuracy: 0.9764 - val_loss: 0.1368 - val_accuracy: 0.9681\n",
            "Epoch 47/100\n",
            "12/12 [==============================] - 0s 5ms/step - loss: 0.1040 - accuracy: 0.9790 - val_loss: 0.1358 - val_accuracy: 0.9681\n",
            "Epoch 48/100\n",
            "12/12 [==============================] - 0s 5ms/step - loss: 0.1032 - accuracy: 0.9790 - val_loss: 0.1348 - val_accuracy: 0.9681\n",
            "Epoch 49/100\n",
            "12/12 [==============================] - 0s 4ms/step - loss: 0.1016 - accuracy: 0.9790 - val_loss: 0.1341 - val_accuracy: 0.9681\n",
            "Epoch 50/100\n",
            "12/12 [==============================] - 0s 4ms/step - loss: 0.1014 - accuracy: 0.9790 - val_loss: 0.1331 - val_accuracy: 0.9681\n",
            "Epoch 51/100\n",
            "12/12 [==============================] - 0s 5ms/step - loss: 0.0997 - accuracy: 0.9790 - val_loss: 0.1323 - val_accuracy: 0.9681\n",
            "Epoch 52/100\n",
            "12/12 [==============================] - 0s 4ms/step - loss: 0.0988 - accuracy: 0.9790 - val_loss: 0.1315 - val_accuracy: 0.9681\n",
            "Epoch 53/100\n",
            "12/12 [==============================] - 0s 4ms/step - loss: 0.0975 - accuracy: 0.9790 - val_loss: 0.1307 - val_accuracy: 0.9681\n",
            "Epoch 54/100\n",
            "12/12 [==============================] - 0s 5ms/step - loss: 0.0971 - accuracy: 0.9790 - val_loss: 0.1300 - val_accuracy: 0.9681\n",
            "Epoch 55/100\n",
            "12/12 [==============================] - 0s 5ms/step - loss: 0.0958 - accuracy: 0.9790 - val_loss: 0.1292 - val_accuracy: 0.9681\n",
            "Epoch 56/100\n",
            "12/12 [==============================] - 0s 4ms/step - loss: 0.0952 - accuracy: 0.9790 - val_loss: 0.1286 - val_accuracy: 0.9681\n",
            "Epoch 57/100\n",
            "12/12 [==============================] - 0s 4ms/step - loss: 0.0942 - accuracy: 0.9816 - val_loss: 0.1280 - val_accuracy: 0.9681\n",
            "Epoch 58/100\n",
            "12/12 [==============================] - 0s 4ms/step - loss: 0.0933 - accuracy: 0.9816 - val_loss: 0.1273 - val_accuracy: 0.9681\n",
            "Epoch 59/100\n",
            "12/12 [==============================] - 0s 5ms/step - loss: 0.0927 - accuracy: 0.9816 - val_loss: 0.1266 - val_accuracy: 0.9681\n",
            "Epoch 60/100\n",
            "12/12 [==============================] - 0s 5ms/step - loss: 0.0919 - accuracy: 0.9816 - val_loss: 0.1261 - val_accuracy: 0.9681\n",
            "Epoch 61/100\n",
            "12/12 [==============================] - 0s 4ms/step - loss: 0.0907 - accuracy: 0.9816 - val_loss: 0.1254 - val_accuracy: 0.9681\n",
            "Epoch 62/100\n",
            "12/12 [==============================] - 0s 4ms/step - loss: 0.0900 - accuracy: 0.9816 - val_loss: 0.1249 - val_accuracy: 0.9734\n",
            "Epoch 63/100\n",
            "12/12 [==============================] - 0s 4ms/step - loss: 0.0894 - accuracy: 0.9843 - val_loss: 0.1243 - val_accuracy: 0.9734\n",
            "Epoch 64/100\n",
            "12/12 [==============================] - 0s 5ms/step - loss: 0.0885 - accuracy: 0.9843 - val_loss: 0.1238 - val_accuracy: 0.9734\n",
            "Epoch 65/100\n",
            "12/12 [==============================] - 0s 4ms/step - loss: 0.0874 - accuracy: 0.9843 - val_loss: 0.1233 - val_accuracy: 0.9734\n",
            "Epoch 66/100\n",
            "12/12 [==============================] - 0s 4ms/step - loss: 0.0875 - accuracy: 0.9843 - val_loss: 0.1228 - val_accuracy: 0.9734\n",
            "Epoch 67/100\n",
            "12/12 [==============================] - 0s 5ms/step - loss: 0.0863 - accuracy: 0.9843 - val_loss: 0.1223 - val_accuracy: 0.9734\n",
            "Epoch 68/100\n",
            "12/12 [==============================] - 0s 4ms/step - loss: 0.0854 - accuracy: 0.9843 - val_loss: 0.1218 - val_accuracy: 0.9734\n",
            "Epoch 69/100\n",
            "12/12 [==============================] - 0s 5ms/step - loss: 0.0847 - accuracy: 0.9843 - val_loss: 0.1213 - val_accuracy: 0.9734\n",
            "Epoch 70/100\n",
            "12/12 [==============================] - 0s 5ms/step - loss: 0.0842 - accuracy: 0.9843 - val_loss: 0.1209 - val_accuracy: 0.9734\n",
            "Epoch 71/100\n",
            "12/12 [==============================] - 0s 5ms/step - loss: 0.0836 - accuracy: 0.9843 - val_loss: 0.1205 - val_accuracy: 0.9734\n",
            "Epoch 72/100\n",
            "12/12 [==============================] - 0s 4ms/step - loss: 0.0828 - accuracy: 0.9843 - val_loss: 0.1201 - val_accuracy: 0.9734\n",
            "Epoch 73/100\n",
            "12/12 [==============================] - 0s 5ms/step - loss: 0.0825 - accuracy: 0.9843 - val_loss: 0.1196 - val_accuracy: 0.9734\n",
            "Epoch 74/100\n",
            "12/12 [==============================] - 0s 5ms/step - loss: 0.0821 - accuracy: 0.9843 - val_loss: 0.1193 - val_accuracy: 0.9734\n",
            "Epoch 75/100\n",
            "12/12 [==============================] - 0s 4ms/step - loss: 0.0817 - accuracy: 0.9843 - val_loss: 0.1189 - val_accuracy: 0.9734\n",
            "Epoch 76/100\n",
            "12/12 [==============================] - 0s 5ms/step - loss: 0.0807 - accuracy: 0.9843 - val_loss: 0.1185 - val_accuracy: 0.9734\n",
            "Epoch 77/100\n",
            "12/12 [==============================] - 0s 4ms/step - loss: 0.0798 - accuracy: 0.9843 - val_loss: 0.1182 - val_accuracy: 0.9734\n",
            "Epoch 78/100\n",
            "12/12 [==============================] - 0s 5ms/step - loss: 0.0795 - accuracy: 0.9843 - val_loss: 0.1178 - val_accuracy: 0.9734\n",
            "Epoch 79/100\n",
            "12/12 [==============================] - 0s 4ms/step - loss: 0.0791 - accuracy: 0.9843 - val_loss: 0.1175 - val_accuracy: 0.9734\n",
            "Epoch 80/100\n",
            "12/12 [==============================] - 0s 4ms/step - loss: 0.0785 - accuracy: 0.9843 - val_loss: 0.1171 - val_accuracy: 0.9734\n",
            "Epoch 81/100\n",
            "12/12 [==============================] - 0s 5ms/step - loss: 0.0779 - accuracy: 0.9843 - val_loss: 0.1168 - val_accuracy: 0.9734\n",
            "Epoch 82/100\n",
            "12/12 [==============================] - 0s 5ms/step - loss: 0.0779 - accuracy: 0.9843 - val_loss: 0.1165 - val_accuracy: 0.9734\n",
            "Epoch 83/100\n",
            "12/12 [==============================] - 0s 5ms/step - loss: 0.0773 - accuracy: 0.9843 - val_loss: 0.1161 - val_accuracy: 0.9734\n",
            "Epoch 84/100\n",
            "12/12 [==============================] - 0s 5ms/step - loss: 0.0764 - accuracy: 0.9843 - val_loss: 0.1159 - val_accuracy: 0.9734\n",
            "Epoch 85/100\n",
            "12/12 [==============================] - 0s 4ms/step - loss: 0.0759 - accuracy: 0.9843 - val_loss: 0.1156 - val_accuracy: 0.9734\n",
            "Epoch 86/100\n",
            "12/12 [==============================] - 0s 5ms/step - loss: 0.0755 - accuracy: 0.9843 - val_loss: 0.1153 - val_accuracy: 0.9734\n",
            "Epoch 87/100\n",
            "12/12 [==============================] - 0s 4ms/step - loss: 0.0755 - accuracy: 0.9843 - val_loss: 0.1150 - val_accuracy: 0.9734\n",
            "Epoch 88/100\n",
            "12/12 [==============================] - 0s 5ms/step - loss: 0.0745 - accuracy: 0.9843 - val_loss: 0.1148 - val_accuracy: 0.9734\n",
            "Epoch 89/100\n",
            "12/12 [==============================] - 0s 5ms/step - loss: 0.0744 - accuracy: 0.9843 - val_loss: 0.1145 - val_accuracy: 0.9734\n",
            "Epoch 90/100\n",
            "12/12 [==============================] - 0s 5ms/step - loss: 0.0742 - accuracy: 0.9843 - val_loss: 0.1143 - val_accuracy: 0.9734\n",
            "Epoch 91/100\n",
            "12/12 [==============================] - 0s 4ms/step - loss: 0.0736 - accuracy: 0.9843 - val_loss: 0.1140 - val_accuracy: 0.9734\n",
            "Epoch 92/100\n",
            "12/12 [==============================] - 0s 5ms/step - loss: 0.0736 - accuracy: 0.9843 - val_loss: 0.1137 - val_accuracy: 0.9734\n",
            "Epoch 93/100\n",
            "12/12 [==============================] - 0s 5ms/step - loss: 0.0726 - accuracy: 0.9843 - val_loss: 0.1135 - val_accuracy: 0.9734\n",
            "Epoch 94/100\n",
            "12/12 [==============================] - 0s 5ms/step - loss: 0.0726 - accuracy: 0.9843 - val_loss: 0.1133 - val_accuracy: 0.9734\n",
            "Epoch 95/100\n",
            "12/12 [==============================] - 0s 4ms/step - loss: 0.0717 - accuracy: 0.9843 - val_loss: 0.1132 - val_accuracy: 0.9734\n",
            "Epoch 96/100\n",
            "12/12 [==============================] - 0s 4ms/step - loss: 0.0713 - accuracy: 0.9843 - val_loss: 0.1129 - val_accuracy: 0.9734\n",
            "Epoch 97/100\n",
            "12/12 [==============================] - 0s 4ms/step - loss: 0.0716 - accuracy: 0.9843 - val_loss: 0.1127 - val_accuracy: 0.9734\n",
            "Epoch 98/100\n",
            "12/12 [==============================] - 0s 4ms/step - loss: 0.0713 - accuracy: 0.9843 - val_loss: 0.1125 - val_accuracy: 0.9734\n",
            "Epoch 99/100\n",
            "12/12 [==============================] - 0s 4ms/step - loss: 0.0706 - accuracy: 0.9843 - val_loss: 0.1123 - val_accuracy: 0.9734\n",
            "Epoch 100/100\n",
            "12/12 [==============================] - 0s 5ms/step - loss: 0.0700 - accuracy: 0.9843 - val_loss: 0.1121 - val_accuracy: 0.9734\n"
          ],
          "name": "stdout"
        }
      ]
    },
    {
      "cell_type": "code",
      "metadata": {
        "id": "CNVks20xAL1Q",
        "colab_type": "code",
        "outputId": "524ad099-679e-4563-e59d-6a3b67025793",
        "colab": {
          "base_uri": "https://localhost:8080/",
          "height": 85
        }
      },
      "source": [
        "#evaluate the model\n",
        "print(\"Trian_Score:\",model.evaluate(X_train,Y_train))\n",
        "print(\"Test_score:\",model.evaluate(X_test,Y_test))"
      ],
      "execution_count": 22,
      "outputs": [
        {
          "output_type": "stream",
          "text": [
            "12/12 [==============================] - 0s 1ms/step - loss: 0.0704 - accuracy: 0.9843\n",
            "Trian_Score: [0.07041177898645401, 0.9842519760131836]\n",
            "6/6 [==============================] - 0s 2ms/step - loss: 0.1121 - accuracy: 0.9734\n",
            "Test_score: [0.1121128499507904, 0.9734042286872864]\n"
          ],
          "name": "stdout"
        }
      ]
    },
    {
      "cell_type": "code",
      "metadata": {
        "id": "kQjryaJXArGW",
        "colab_type": "code",
        "outputId": "1ec54dc9-e6b8-4ddc-de76-21fb6c871318",
        "colab": {
          "base_uri": "https://localhost:8080/",
          "height": 282
        }
      },
      "source": [
        "#Plot the object return by model.fit\n",
        "import matplotlib.pyplot as plt\n",
        "plt.plot(r.history['loss'],label = 'loss')\n",
        "plt.plot(r.history['val_loss'],label = 'Val loss')\n",
        "plt.legend()"
      ],
      "execution_count": 23,
      "outputs": [
        {
          "output_type": "execute_result",
          "data": {
            "text/plain": [
              "<matplotlib.legend.Legend at 0x7f34184012e8>"
            ]
          },
          "metadata": {
            "tags": []
          },
          "execution_count": 23
        },
        {
          "output_type": "display_data",
          "data": {
            "image/png": "[encoded data removed]",
            "text/plain": [
              "<Figure size 432x288 with 1 Axes>"
            ]
          },
          "metadata": {
            "tags": [],
            "needs_background": "light"
          }
        }
      ]
    },
    {
      "cell_type": "code",
      "metadata": {
        "id": "j8Kxn6usBV8U",
        "colab_type": "code",
        "outputId": "397d9d4d-e88a-4338-bafd-1f3736f9ef5b",
        "colab": {
          "base_uri": "https://localhost:8080/",
          "height": 282
        }
      },
      "source": [
        "plt.plot(r.history['accuracy'],label = 'accurcay')\n",
        "plt.plot(r.history['val_accuracy'],label = 'val_accuracy')\n",
        "plt.legend()"
      ],
      "execution_count": 24,
      "outputs": [
        {
          "output_type": "execute_result",
          "data": {
            "text/plain": [
              "<matplotlib.legend.Legend at 0x7f3418305438>"
            ]
          },
          "metadata": {
            "tags": []
          },
          "execution_count": 24
        },
        {
          "output_type": "display_data",
          "data": {
            "image/png": "[encoded data removed]",
            "text/plain": [
              "<Figure size 432x288 with 1 Axes>"
            ]
          },
          "metadata": {
            "tags": [],
            "needs_background": "light"
          }
        }
      ]
    },
    {
      "cell_type": "code",
      "metadata": {
        "id": "-rNyAtu4B9sf",
        "colab_type": "code",
        "colab": {}
      },
      "source": [
        "#Prediction of Test data "
      ],
      "execution_count": 0,
      "outputs": []
    },
    {
      "cell_type": "code",
      "metadata": {
        "id": "LQD0Yntt9ovl",
        "colab_type": "code",
        "colab": {}
      },
      "source": [
        "P = model.predict(X_test)"
      ],
      "execution_count": 0,
      "outputs": []
    },
    {
      "cell_type": "code",
      "metadata": {
        "id": "SL5Zqi7R-dRN",
        "colab_type": "code",
        "outputId": "0ac9220f-1ded-4934-c831-42f4551298e5",
        "colab": {
          "base_uri": "https://localhost:8080/",
          "height": 1000
        }
      },
      "source": [
        "print(P) # Output in Probabilities"
      ],
      "execution_count": 27,
      "outputs": [
        {
          "output_type": "stream",
          "text": [
            "[[9.98093665e-01]\n",
            " [9.96375501e-01]\n",
            " [2.00330483e-04]\n",
            " [1.84168220e-02]\n",
            " [9.30736899e-01]\n",
            " [2.99419343e-01]\n",
            " [9.99890566e-01]\n",
            " [9.99426007e-01]\n",
            " [4.06697020e-02]\n",
            " [9.99430120e-01]\n",
            " [3.33438651e-03]\n",
            " [7.92032897e-01]\n",
            " [7.88832258e-05]\n",
            " [9.98219192e-01]\n",
            " [7.51446692e-08]\n",
            " [9.96178269e-01]\n",
            " [4.41238612e-01]\n",
            " [9.99050677e-01]\n",
            " [7.82033749e-05]\n",
            " [7.06607774e-02]\n",
            " [9.95175242e-01]\n",
            " [3.47767863e-03]\n",
            " [8.37628484e-01]\n",
            " [9.96897101e-01]\n",
            " [7.42793679e-02]\n",
            " [9.99371111e-01]\n",
            " [1.96589914e-04]\n",
            " [9.92909431e-01]\n",
            " [9.99937296e-01]\n",
            " [9.99843597e-01]\n",
            " [9.84491885e-01]\n",
            " [9.96886790e-01]\n",
            " [2.51933252e-05]\n",
            " [3.36712361e-07]\n",
            " [9.95692074e-01]\n",
            " [9.81250882e-01]\n",
            " [9.29304540e-01]\n",
            " [4.31602075e-06]\n",
            " [1.09776174e-07]\n",
            " [6.63501918e-02]\n",
            " [3.84268671e-04]\n",
            " [1.88131875e-08]\n",
            " [9.88612890e-01]\n",
            " [1.60226133e-02]\n",
            " [2.68537115e-04]\n",
            " [1.60163818e-05]\n",
            " [9.69083071e-01]\n",
            " [9.99728858e-01]\n",
            " [2.29380254e-04]\n",
            " [2.75728130e-03]\n",
            " [2.98738033e-01]\n",
            " [9.96857166e-01]\n",
            " [9.99265373e-01]\n",
            " [9.83967841e-01]\n",
            " [1.71950892e-01]\n",
            " [9.72074032e-01]\n",
            " [9.95424926e-01]\n",
            " [2.94904545e-04]\n",
            " [9.99873519e-01]\n",
            " [9.14249420e-01]\n",
            " [7.06826686e-05]\n",
            " [9.62704122e-01]\n",
            " [9.84433174e-01]\n",
            " [9.98929441e-01]\n",
            " [9.99851227e-01]\n",
            " [9.99631047e-01]\n",
            " [4.42310780e-01]\n",
            " [9.46408033e-01]\n",
            " [8.47868383e-01]\n",
            " [9.99966979e-01]\n",
            " [6.82436535e-03]\n",
            " [9.87232685e-01]\n",
            " [1.16561459e-04]\n",
            " [1.60526997e-05]\n",
            " [3.44070107e-01]\n",
            " [9.91170824e-01]\n",
            " [9.48339939e-01]\n",
            " [9.97231305e-01]\n",
            " [6.64607823e-01]\n",
            " [9.92745042e-01]\n",
            " [1.89362197e-06]\n",
            " [9.86489892e-01]\n",
            " [9.98855829e-01]\n",
            " [4.35635328e-01]\n",
            " [7.44829458e-06]\n",
            " [8.15342426e-01]\n",
            " [9.99477565e-01]\n",
            " [8.44406784e-01]\n",
            " [9.21496749e-01]\n",
            " [9.66885626e-01]\n",
            " [2.26753373e-02]\n",
            " [9.98588026e-01]\n",
            " [9.40313697e-01]\n",
            " [9.92268980e-01]\n",
            " [9.98867035e-01]\n",
            " [1.87756732e-01]\n",
            " [9.78883743e-01]\n",
            " [9.51597810e-01]\n",
            " [9.62405562e-01]\n",
            " [7.12655604e-01]\n",
            " [2.91806288e-07]\n",
            " [5.55690967e-05]\n",
            " [5.18077150e-06]\n",
            " [9.99444783e-01]\n",
            " [9.36452866e-01]\n",
            " [4.01941299e-01]\n",
            " [9.60290253e-01]\n",
            " [9.75477517e-01]\n",
            " [9.90402699e-01]\n",
            " [9.99297261e-01]\n",
            " [9.94731784e-01]\n",
            " [4.39198554e-01]\n",
            " [9.88928318e-01]\n",
            " [1.98889364e-04]\n",
            " [9.82230067e-01]\n",
            " [9.94971752e-01]\n",
            " [9.15631771e-01]\n",
            " [9.92420852e-01]\n",
            " [9.99279439e-01]\n",
            " [3.19511518e-02]\n",
            " [2.74263229e-02]\n",
            " [9.53939140e-01]\n",
            " [2.00154372e-02]\n",
            " [1.67360939e-02]\n",
            " [8.98114145e-01]\n",
            " [4.79180971e-03]\n",
            " [7.15183020e-02]\n",
            " [9.88681912e-01]\n",
            " [6.96466327e-01]\n",
            " [6.65241927e-02]\n",
            " [9.95952010e-01]\n",
            " [9.99991775e-01]\n",
            " [9.05813932e-01]\n",
            " [1.85760597e-04]\n",
            " [6.35647357e-01]\n",
            " [9.98018980e-01]\n",
            " [9.93420184e-01]\n",
            " [8.06704283e-01]\n",
            " [3.70063790e-04]\n",
            " [9.95082021e-01]\n",
            " [1.00840256e-02]\n",
            " [8.71895521e-04]\n",
            " [1.96806015e-03]\n",
            " [1.49502875e-02]\n",
            " [9.99236226e-01]\n",
            " [4.78173912e-01]\n",
            " [9.95909333e-01]\n",
            " [9.92541671e-01]\n",
            " [8.70662093e-01]\n",
            " [3.34776908e-01]\n",
            " [9.40566182e-01]\n",
            " [1.84609741e-02]\n",
            " [5.78305721e-01]\n",
            " [6.63624888e-09]\n",
            " [9.94649470e-01]\n",
            " [9.67700660e-01]\n",
            " [9.97337043e-01]\n",
            " [9.98492002e-01]\n",
            " [9.77475405e-01]\n",
            " [9.67338681e-01]\n",
            " [9.94127393e-01]\n",
            " [9.86818075e-01]\n",
            " [9.37739611e-01]\n",
            " [9.76880968e-01]\n",
            " [9.88043964e-01]\n",
            " [9.55850482e-01]\n",
            " [9.89355505e-01]\n",
            " [9.88740385e-01]\n",
            " [9.97377872e-01]\n",
            " [9.97711062e-01]\n",
            " [3.92140297e-04]\n",
            " [9.96662498e-01]\n",
            " [9.99783933e-01]\n",
            " [2.17770412e-06]\n",
            " [9.94718373e-01]\n",
            " [9.98799801e-01]\n",
            " [8.31014752e-01]\n",
            " [9.89376307e-01]\n",
            " [5.15233815e-01]\n",
            " [9.97204840e-01]\n",
            " [9.90641057e-01]\n",
            " [7.85565674e-01]\n",
            " [9.97489929e-01]\n",
            " [9.70034957e-01]\n",
            " [9.75021124e-01]\n",
            " [9.94984150e-01]\n",
            " [1.00852177e-01]\n",
            " [9.97825027e-01]]\n"
          ],
          "name": "stdout"
        }
      ]
    },
    {
      "cell_type": "code",
      "metadata": {
        "id": "h0Rij94B-flc",
        "colab_type": "code",
        "outputId": "07992bcd-60c6-4d1c-ecf5-4e46dd36afa6",
        "colab": {
          "base_uri": "https://localhost:8080/",
          "height": 153
        }
      },
      "source": [
        "#Round up to get the actual prediction # flatten since target is 1 D array so our output should also be  1D array\n",
        "import numpy as np\n",
        "\n",
        "P = np.round(P).flatten()\n",
        "print(P)"
      ],
      "execution_count": 28,
      "outputs": [
        {
          "output_type": "stream",
          "text": [
            "[1. 1. 0. 0. 1. 0. 1. 1. 0. 1. 0. 1. 0. 1. 0. 1. 0. 1. 0. 0. 1. 0. 1. 1.\n",
            " 0. 1. 0. 1. 1. 1. 1. 1. 0. 0. 1. 1. 1. 0. 0. 0. 0. 0. 1. 0. 0. 0. 1. 1.\n",
            " 0. 0. 0. 1. 1. 1. 0. 1. 1. 0. 1. 1. 0. 1. 1. 1. 1. 1. 0. 1. 1. 1. 0. 1.\n",
            " 0. 0. 0. 1. 1. 1. 1. 1. 0. 1. 1. 0. 0. 1. 1. 1. 1. 1. 0. 1. 1. 1. 1. 0.\n",
            " 1. 1. 1. 1. 0. 0. 0. 1. 1. 0. 1. 1. 1. 1. 1. 0. 1. 0. 1. 1. 1. 1. 1. 0.\n",
            " 0. 1. 0. 0. 1. 0. 0. 1. 1. 0. 1. 1. 1. 0. 1. 1. 1. 1. 0. 1. 0. 0. 0. 0.\n",
            " 1. 0. 1. 1. 1. 0. 1. 0. 1. 0. 1. 1. 1. 1. 1. 1. 1. 1. 1. 1. 1. 1. 1. 1.\n",
            " 1. 1. 0. 1. 1. 0. 1. 1. 1. 1. 1. 1. 1. 1. 1. 1. 1. 1. 0. 1.]\n"
          ],
          "name": "stdout"
        }
      ]
    },
    {
      "cell_type": "code",
      "metadata": {
        "id": "fOusMagL-9JJ",
        "colab_type": "code",
        "outputId": "ccfd59f5-41cb-4be3-a3c3-06ae0a447dea",
        "colab": {
          "base_uri": "https://localhost:8080/",
          "height": 68
        }
      },
      "source": [
        "#calculate the accuracy and compare it with the evaluate() output\n",
        "print(\"maually calculated accuracy:\", np.mean(P==Y_test))\n",
        "print(\"Evaluate Output:\", model.evaluate(X_test,Y_test))"
      ],
      "execution_count": 29,
      "outputs": [
        {
          "output_type": "stream",
          "text": [
            "maually calculated accuracy: 0.973404255319149\n",
            "6/6 [==============================] - 0s 2ms/step - loss: 0.1121 - accuracy: 0.9734\n",
            "Evaluate Output: [0.1121128499507904, 0.9734042286872864]\n"
          ],
          "name": "stdout"
        }
      ]
    },
    {
      "cell_type": "markdown",
      "metadata": {
        "id": "lV7hZcG_OFsq",
        "colab_type": "text"
      },
      "source": [
        "## Saving and loding the model"
      ]
    },
    {
      "cell_type": "code",
      "metadata": {
        "id": "kgX1yIFYOIwv",
        "colab_type": "code",
        "colab": {}
      },
      "source": [
        "model.save('linearclassifier.h5')"
      ],
      "execution_count": 0,
      "outputs": []
    },
    {
      "cell_type": "code",
      "metadata": {
        "id": "Ng0hfdn3OqWB",
        "colab_type": "code",
        "colab": {
          "base_uri": "https://localhost:8080/",
          "height": 68
        },
        "outputId": "db898ff4-c427-4da3-8b81-4edbd0b2447a"
      },
      "source": [
        "!ls -lh"
      ],
      "execution_count": 32,
      "outputs": [
        {
          "output_type": "stream",
          "text": [
            "total 24K\n",
            "-rw-r--r-- 1 root root  19K Apr 19 02:19 linearclassifier.h5\n",
            "drwxr-xr-x 1 root root 4.0K Apr  3 16:24 sample_data\n"
          ],
          "name": "stdout"
        }
      ]
    },
    {
      "cell_type": "code",
      "metadata": {
        "id": "snF9B650O-sc",
        "colab_type": "code",
        "colab": {
          "base_uri": "https://localhost:8080/",
          "height": 68
        },
        "outputId": "b52e4524-e095-461d-8f26-d100e37b8963"
      },
      "source": [
        "model = tf.keras.models.load_model('linearclassifier.h5')\n",
        "print(model.layers)\n",
        "print(model.evaluate(X_test,Y_test))"
      ],
      "execution_count": 33,
      "outputs": [
        {
          "output_type": "stream",
          "text": [
            "[<tensorflow.python.keras.layers.core.Dense object at 0x7f33ff0d5ac8>]\n",
            "6/6 [==============================] - 0s 2ms/step - loss: 0.1121 - accuracy: 0.9734\n",
            "[0.1121128499507904, 0.9734042286872864]\n"
          ],
          "name": "stdout"
        }
      ]
    },
    {
      "cell_type": "markdown",
      "metadata": {
        "id": "PtGiuugxQxZt",
        "colab_type": "text"
      },
      "source": [
        "## Model Download using python code"
      ]
    },
    {
      "cell_type": "code",
      "metadata": {
        "id": "sQrAf2GhQ220",
        "colab_type": "code",
        "colab": {}
      },
      "source": [
        "from google.colab import files\n",
        "files.download('linearclassifier.h5')"
      ],
      "execution_count": 0,
      "outputs": []
    },
    {
      "cell_type": "code",
      "metadata": {
        "id": "rRwhx74gRDt5",
        "colab_type": "code",
        "colab": {}
      },
      "source": [
        ""
      ],
      "execution_count": 0,
      "outputs": []
    }
  ]
}